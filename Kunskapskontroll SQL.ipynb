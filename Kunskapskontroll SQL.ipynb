{
 "cells": [
  {
   "cell_type": "markdown",
   "metadata": {},
   "source": [
    "# Kunskapskontroll SQL (Maryam Hult Nikpour)"
   ]
  },
  {
   "cell_type": "markdown",
   "metadata": {},
   "source": [
    "## Teoretiska Frågor"
   ]
  },
  {
   "cell_type": "markdown",
   "metadata": {},
   "source": [
    "1. Beskriv kort hur en relationsdatabas fungerar.\n",
    "\n",
    "I en relationsdatabas lagras all data i tabeller (med rader och kolumner). Med hjälp av primär- och främmande nycklar (primary och foreign keys) är det möjligt att koppla kolumner från olika tabeller för att skapa nya tabeller eller visa data på ett sammanhängande sätt.\n",
    "                                \n",
    "\n",
    "\n",
    "2. Vad menas med “CRUD”-flödet?\n",
    "\n",
    "Create: Lägga till eller infoga nya data i en SQL-tabell.\n",
    "\n",
    "Read: Hämta och visa data från databasen.\n",
    "\n",
    "Update: Ändra eller uppdatera befintliga data.\n",
    "\n",
    "Delete: Ta bort data från databasen.\n",
    "                               \n",
    "\n",
    "3. Beskriv kort vad en “left join” och en “inner join” är. Varför använder man det?\n",
    "\n",
    "Inner Join och Left Join är två metoder för att kombinera kolumner från olika tabeller. Använder vi 'Inner Join' hämtas endast rader med matchande värden. För 'Left Join' inkluderas alla rader från den vänstra tabellen, även om det saknas matchande värden i den högra tabellen. Tomma rader i den högra tabellen fylls med NULL.\n",
    "\n",
    "4. Beskriv kort vad indexering i SQL innebär.\n",
    "\n",
    "Indexering i SQL innebär att skapa en struktur (index) som förbättrar hastigheten på databasens sökningar genom att snabbt kunna hämta specifika rader utan att behöva skanna hela tabellen.\n",
    "\n",
    "\n",
    "5. Beskriv kort vad en vy i SQL är.\n",
    "\n",
    "Vi kan skriva en fråga i SQL som lagrar resultat i en tabell som kallas en vy. Detta gör att vi enkelt kan komma åt data i framtiden, vilket sparar tid genom att inte behöva återskapa komplexa frågor. Vyer är skrivskyddade, vilket gör dem enkla att dela och säkerställer datakonsistens.\n",
    "\n",
    "\n",
    "\n",
    "6. Beskriv kort vad en lagrad procedur i SQL är\n",
    "\n",
    "En lagrad procedur i SQL är en uppsättning förskrivna SQL-satser som utför en specifik uppgift. Den är liknande funktioner i programmeringsspråk som Python, där en block av kod definieras en gång och kan återanvändas flera gånger.\n",
    "\n"
   ]
  },
  {
   "cell_type": "markdown",
   "metadata": {},
   "source": [
    "## Programmeringsuppgift"
   ]
  },
  {
   "cell_type": "markdown",
   "metadata": {},
   "source": [
    "### Scenario  \n",
    "Du har precis börjat arbeta som dataanalytiker på ett företag där ni har en databas som\n",
    "heter AdventureWorks2022. När man börjar på ett nytt företag så behöver man bekanta\n",
    "sig med datan som finns. Du har tre uppgifter.\n"
   ]
  },
  {
   "cell_type": "markdown",
   "metadata": {},
   "source": [
    "Before starting, I need to import the necessary libraries, including SQLAlchemy (which facilitates communication between Python and the database), Pandas (for data analysis), Plotly Express (for data visualization) and scipy.stats (for statistical analysis)."
   ]
  },
  {
   "cell_type": "code",
   "execution_count": 389,
   "metadata": {},
   "outputs": [],
   "source": [
    "from sqlalchemy import create_engine, URL, inspect  # to connect to a database, inspect it, and work with it\n",
    "import pandas as pd\n",
    "import plotly.express as px\n",
    "import scipy.stats as stats"
   ]
  },
  {
   "cell_type": "markdown",
   "metadata": {},
   "source": [
    "To specify how and where to connect to the database, I need to create an engine:"
   ]
  },
  {
   "cell_type": "code",
   "execution_count": 387,
   "metadata": {},
   "outputs": [],
   "source": [
    "SERVER = 'localhost'  \n",
    "DATABASE = 'AdventureWorks2022'  # our database\n",
    "connection_string = f'DRIVER={{ODBC Driver 18 for SQL Server}};SERVER={SERVER};DATABASE={DATABASE};Trusted_Connection=yes;Encrypt=no'\n",
    "connection_url = URL.create('mssql+pyodbc', query={'odbc_connect': connection_string})\n",
    "engine = create_engine(connection_url)  "
   ]
  },
  {
   "cell_type": "markdown",
   "metadata": {},
   "source": [
    "To establish a connection between our database ('AdventureWorks2022') and Python, a connection is created:"
   ]
  },
  {
   "cell_type": "code",
   "execution_count": 341,
   "metadata": {},
   "outputs": [],
   "source": [
    "connection = engine.connect()"
   ]
  },
  {
   "cell_type": "markdown",
   "metadata": {},
   "source": [
    "### Fråga 1. Ge en deskriptiv sammanfattning över databasen AdventureWorks2022."
   ]
  },
  {
   "cell_type": "markdown",
   "metadata": {},
   "source": [
    "First, I need to familiarize myself with the database and understand its schema:"
   ]
  },
  {
   "cell_type": "code",
   "execution_count": 342,
   "metadata": {},
   "outputs": [
    {
     "name": "stdout",
     "output_type": "stream",
     "text": [
      "db_accessadmin\n",
      "db_backupoperator\n",
      "db_datareader\n",
      "db_datawriter\n",
      "db_ddladmin\n",
      "db_denydatareader\n",
      "db_denydatawriter\n",
      "db_owner\n",
      "db_securityadmin\n",
      "dbo\n",
      "guest\n",
      "HumanResources\n",
      "INFORMATION_SCHEMA\n",
      "Person\n",
      "Production\n",
      "Purchasing\n",
      "Sales\n",
      "sys\n"
     ]
    }
   ],
   "source": [
    "inspector = inspect(engine)\n",
    "schemas = inspector.get_schema_names() # get all schema names  \n",
    "for schema in schemas:\n",
    "    print(schema)"
   ]
  },
  {
   "cell_type": "markdown",
   "metadata": {},
   "source": [
    "The above list shows all schema names in our database, including system-defined schemas. However, I am only interested in the following schemas: 'HumanResources', 'Person', 'Production', 'Purchasing', and 'Sales' and thier related tables: "
   ]
  },
  {
   "cell_type": "code",
   "execution_count": 343,
   "metadata": {},
   "outputs": [
    {
     "name": "stdout",
     "output_type": "stream",
     "text": [
      "Schema: HumanResources, Number of Tables: 6\n",
      "['Department', 'Employee', 'EmployeeDepartmentHistory', 'EmployeePayHistory', 'JobCandidate', 'Shift']\n",
      "\n",
      "Schema: Person, Number of Tables: 13\n",
      "['Address', 'AddressType', 'BusinessEntity', 'BusinessEntityAddress', 'BusinessEntityContact', 'ContactType', 'CountryRegion', 'EmailAddress', 'Password', 'Person', 'PersonPhone', 'PhoneNumberType', 'StateProvince']\n",
      "\n",
      "Schema: Sales, Number of Tables: 20\n",
      "['CountryRegionCurrency', 'CreditCard', 'Currency', 'CurrencyRate', 'Customer', 'MontyPython', 'PersonCreditCard', 'SalesOrderDetail', 'SalesOrderHeader', 'SalesOrderHeaderSalesReason', 'SalesPerson', 'SalesPersonQuotaHistory', 'SalesReason', 'SalesTaxRate', 'SalesTerritory', 'SalesTerritoryHistory', 'ShoppingCartItem', 'SpecialOffer', 'SpecialOfferProduct', 'Store']\n",
      "\n",
      "Schema: Purchasing, Number of Tables: 5\n",
      "['ProductVendor', 'PurchaseOrderDetail', 'PurchaseOrderHeader', 'ShipMethod', 'Vendor']\n",
      "\n",
      "Schema: Production, Number of Tables: 25\n",
      "['BillOfMaterials', 'Culture', 'Document', 'Illustration', 'Location', 'Product', 'ProductCategory', 'ProductCostHistory', 'ProductDescription', 'ProductDocument', 'ProductInventory', 'ProductListPriceHistory', 'ProductModel', 'ProductModelIllustration', 'ProductModelProductDescriptionCulture', 'ProductPhoto', 'ProductProductPhoto', 'ProductReview', 'ProductSubcategory', 'ScrapReason', 'TransactionHistory', 'TransactionHistoryArchive', 'UnitMeasure', 'WorkOrder', 'WorkOrderRouting']\n",
      "\n"
     ]
    }
   ],
   "source": [
    "favorite_schemas = {'HumanResources', 'Person', 'Production', 'Purchasing', 'Sales'}\n",
    "for schema in favorite_schemas:\n",
    "    tables = inspector.get_table_names(schema=schema)\n",
    "    table_count = len(tables)  # Count the number of tables\n",
    "    print(f\"Schema: {schema}, Number of Tables: {table_count}\")\n",
    "    print(tables)\n",
    "    print()"
   ]
  },
  {
   "cell_type": "markdown",
   "metadata": {},
   "source": [
    "Next, I list all the available table columns in the 5 favorite schemas. In addition to the column names and their count, we can also see the data type of each column."
   ]
  },
  {
   "cell_type": "code",
   "execution_count": 344,
   "metadata": {},
   "outputs": [
    {
     "name": "stdout",
     "output_type": "stream",
     "text": [
      "\n",
      "Schema: HumanResources, Table: Department, Number of Columns: 4\n",
      "  Column: DepartmentID (SMALLINT)\n",
      "  Column: Name (NVARCHAR(50) COLLATE \"SQL_Latin1_General_CP1_CI_AS\")\n",
      "  Column: GroupName (NVARCHAR(50) COLLATE \"SQL_Latin1_General_CP1_CI_AS\")\n",
      "  Column: ModifiedDate (DATETIME)\n",
      "\n",
      "Schema: HumanResources, Table: Employee, Number of Columns: 16\n",
      "  Column: BusinessEntityID (INTEGER)\n",
      "  Column: NationalIDNumber (NVARCHAR(15) COLLATE \"SQL_Latin1_General_CP1_CI_AS\")\n",
      "  Column: LoginID (NVARCHAR(256) COLLATE \"SQL_Latin1_General_CP1_CI_AS\")\n",
      "  Column: OrganizationNode (NULL)\n",
      "  Column: OrganizationLevel (SMALLINT)\n",
      "  Column: JobTitle (NVARCHAR(50) COLLATE \"SQL_Latin1_General_CP1_CI_AS\")\n",
      "  Column: BirthDate (DATE)\n",
      "  Column: MaritalStatus (NCHAR(1) COLLATE \"SQL_Latin1_General_CP1_CI_AS\")\n",
      "  Column: Gender (NCHAR(1) COLLATE \"SQL_Latin1_General_CP1_CI_AS\")\n",
      "  Column: HireDate (DATE)\n",
      "  Column: SalariedFlag (BIT)\n",
      "  Column: VacationHours (SMALLINT)\n",
      "  Column: SickLeaveHours (SMALLINT)\n",
      "  Column: CurrentFlag (BIT)\n",
      "  Column: rowguid (UNIQUEIDENTIFIER)\n",
      "  Column: ModifiedDate (DATETIME)\n",
      "\n",
      "Schema: HumanResources, Table: EmployeeDepartmentHistory, Number of Columns: 6\n",
      "  Column: BusinessEntityID (INTEGER)\n",
      "  Column: DepartmentID (SMALLINT)\n",
      "  Column: ShiftID (TINYINT)\n",
      "  Column: StartDate (DATE)\n",
      "  Column: EndDate (DATE)\n",
      "  Column: ModifiedDate (DATETIME)\n",
      "\n",
      "Schema: HumanResources, Table: EmployeePayHistory, Number of Columns: 5\n",
      "  Column: BusinessEntityID (INTEGER)\n",
      "  Column: RateChangeDate (DATETIME)\n",
      "  Column: Rate (MONEY)\n",
      "  Column: PayFrequency (TINYINT)\n",
      "  Column: ModifiedDate (DATETIME)\n",
      "\n",
      "Schema: HumanResources, Table: JobCandidate, Number of Columns: 4\n",
      "  Column: JobCandidateID (INTEGER)\n",
      "  Column: BusinessEntityID (INTEGER)\n",
      "  Column: Resume (XML)\n",
      "  Column: ModifiedDate (DATETIME)\n",
      "\n",
      "Schema: HumanResources, Table: Shift, Number of Columns: 5\n",
      "  Column: ShiftID (TINYINT)\n",
      "  Column: Name (NVARCHAR(50) COLLATE \"SQL_Latin1_General_CP1_CI_AS\")\n",
      "  Column: StartTime (TIME)\n",
      "  Column: EndTime (TIME)\n",
      "  Column: ModifiedDate (DATETIME)\n",
      "\n",
      "Schema: Person, Table: Address, Number of Columns: 9\n",
      "  Column: AddressID (INTEGER)\n",
      "  Column: AddressLine1 (NVARCHAR(60) COLLATE \"SQL_Latin1_General_CP1_CI_AS\")\n",
      "  Column: AddressLine2 (NVARCHAR(60) COLLATE \"SQL_Latin1_General_CP1_CI_AS\")\n",
      "  Column: City (NVARCHAR(30) COLLATE \"SQL_Latin1_General_CP1_CI_AS\")\n",
      "  Column: StateProvinceID (INTEGER)\n",
      "  Column: PostalCode (NVARCHAR(15) COLLATE \"SQL_Latin1_General_CP1_CI_AS\")\n",
      "  Column: SpatialLocation (NULL)\n",
      "  Column: rowguid (UNIQUEIDENTIFIER)\n",
      "  Column: ModifiedDate (DATETIME)\n",
      "\n",
      "Schema: Person, Table: AddressType, Number of Columns: 4\n",
      "  Column: AddressTypeID (INTEGER)\n",
      "  Column: Name (NVARCHAR(50) COLLATE \"SQL_Latin1_General_CP1_CI_AS\")\n",
      "  Column: rowguid (UNIQUEIDENTIFIER)\n",
      "  Column: ModifiedDate (DATETIME)\n",
      "\n",
      "Schema: Person, Table: BusinessEntity, Number of Columns: 3\n",
      "  Column: BusinessEntityID (INTEGER)\n",
      "  Column: rowguid (UNIQUEIDENTIFIER)\n",
      "  Column: ModifiedDate (DATETIME)\n",
      "\n",
      "Schema: Person, Table: BusinessEntityAddress, Number of Columns: 5\n",
      "  Column: BusinessEntityID (INTEGER)\n",
      "  Column: AddressID (INTEGER)\n",
      "  Column: AddressTypeID (INTEGER)\n",
      "  Column: rowguid (UNIQUEIDENTIFIER)\n",
      "  Column: ModifiedDate (DATETIME)\n",
      "\n",
      "Schema: Person, Table: BusinessEntityContact, Number of Columns: 5\n",
      "  Column: BusinessEntityID (INTEGER)\n",
      "  Column: PersonID (INTEGER)\n",
      "  Column: ContactTypeID (INTEGER)\n",
      "  Column: rowguid (UNIQUEIDENTIFIER)\n",
      "  Column: ModifiedDate (DATETIME)\n",
      "\n",
      "Schema: Person, Table: ContactType, Number of Columns: 3\n",
      "  Column: ContactTypeID (INTEGER)\n",
      "  Column: Name (NVARCHAR(50) COLLATE \"SQL_Latin1_General_CP1_CI_AS\")\n",
      "  Column: ModifiedDate (DATETIME)\n",
      "\n",
      "Schema: Person, Table: CountryRegion, Number of Columns: 3\n",
      "  Column: CountryRegionCode (NVARCHAR(3) COLLATE \"SQL_Latin1_General_CP1_CI_AS\")\n",
      "  Column: Name (NVARCHAR(50) COLLATE \"SQL_Latin1_General_CP1_CI_AS\")\n",
      "  Column: ModifiedDate (DATETIME)\n",
      "\n",
      "Schema: Person, Table: EmailAddress, Number of Columns: 5\n",
      "  Column: BusinessEntityID (INTEGER)\n",
      "  Column: EmailAddressID (INTEGER)\n",
      "  Column: EmailAddress (NVARCHAR(50) COLLATE \"SQL_Latin1_General_CP1_CI_AS\")\n",
      "  Column: rowguid (UNIQUEIDENTIFIER)\n",
      "  Column: ModifiedDate (DATETIME)\n",
      "\n",
      "Schema: Person, Table: Password, Number of Columns: 5\n",
      "  Column: BusinessEntityID (INTEGER)\n",
      "  Column: PasswordHash (VARCHAR(128) COLLATE \"SQL_Latin1_General_CP1_CI_AS\")\n",
      "  Column: PasswordSalt (VARCHAR(10) COLLATE \"SQL_Latin1_General_CP1_CI_AS\")\n",
      "  Column: rowguid (UNIQUEIDENTIFIER)\n",
      "  Column: ModifiedDate (DATETIME)\n",
      "\n",
      "Schema: Person, Table: Person, Number of Columns: 13\n",
      "  Column: BusinessEntityID (INTEGER)\n",
      "  Column: PersonType (NCHAR(2) COLLATE \"SQL_Latin1_General_CP1_CI_AS\")\n",
      "  Column: NameStyle (BIT)\n",
      "  Column: Title (NVARCHAR(8) COLLATE \"SQL_Latin1_General_CP1_CI_AS\")\n",
      "  Column: FirstName (NVARCHAR(50) COLLATE \"SQL_Latin1_General_CP1_CI_AS\")\n",
      "  Column: MiddleName (NVARCHAR(50) COLLATE \"SQL_Latin1_General_CP1_CI_AS\")\n",
      "  Column: LastName (NVARCHAR(50) COLLATE \"SQL_Latin1_General_CP1_CI_AS\")\n",
      "  Column: Suffix (NVARCHAR(10) COLLATE \"SQL_Latin1_General_CP1_CI_AS\")\n",
      "  Column: EmailPromotion (INTEGER)\n",
      "  Column: AdditionalContactInfo (XML)\n",
      "  Column: Demographics (XML)\n",
      "  Column: rowguid (UNIQUEIDENTIFIER)\n",
      "  Column: ModifiedDate (DATETIME)\n",
      "\n",
      "Schema: Person, Table: PersonPhone, Number of Columns: 4\n",
      "  Column: BusinessEntityID (INTEGER)\n",
      "  Column: PhoneNumber (NVARCHAR(25) COLLATE \"SQL_Latin1_General_CP1_CI_AS\")\n",
      "  Column: PhoneNumberTypeID (INTEGER)\n",
      "  Column: ModifiedDate (DATETIME)\n",
      "\n",
      "Schema: Person, Table: PhoneNumberType, Number of Columns: 3\n",
      "  Column: PhoneNumberTypeID (INTEGER)\n",
      "  Column: Name (NVARCHAR(50) COLLATE \"SQL_Latin1_General_CP1_CI_AS\")\n",
      "  Column: ModifiedDate (DATETIME)\n",
      "\n",
      "Schema: Person, Table: StateProvince, Number of Columns: 8\n",
      "  Column: StateProvinceID (INTEGER)\n",
      "  Column: StateProvinceCode (NCHAR(3) COLLATE \"SQL_Latin1_General_CP1_CI_AS\")\n",
      "  Column: CountryRegionCode (NVARCHAR(3) COLLATE \"SQL_Latin1_General_CP1_CI_AS\")\n",
      "  Column: IsOnlyStateProvinceFlag (BIT)\n",
      "  Column: Name (NVARCHAR(50) COLLATE \"SQL_Latin1_General_CP1_CI_AS\")\n",
      "  Column: TerritoryID (INTEGER)\n",
      "  Column: rowguid (UNIQUEIDENTIFIER)\n",
      "  Column: ModifiedDate (DATETIME)\n",
      "\n",
      "Schema: Sales, Table: CountryRegionCurrency, Number of Columns: 3\n",
      "  Column: CountryRegionCode (NVARCHAR(3) COLLATE \"SQL_Latin1_General_CP1_CI_AS\")\n",
      "  Column: CurrencyCode (NCHAR(3) COLLATE \"SQL_Latin1_General_CP1_CI_AS\")\n",
      "  Column: ModifiedDate (DATETIME)\n",
      "\n",
      "Schema: Sales, Table: CreditCard, Number of Columns: 6\n",
      "  Column: CreditCardID (INTEGER)\n",
      "  Column: CardType (NVARCHAR(50) COLLATE \"SQL_Latin1_General_CP1_CI_AS\")\n",
      "  Column: CardNumber (NVARCHAR(25) COLLATE \"SQL_Latin1_General_CP1_CI_AS\")\n",
      "  Column: ExpMonth (TINYINT)\n",
      "  Column: ExpYear (SMALLINT)\n",
      "  Column: ModifiedDate (DATETIME)\n",
      "\n",
      "Schema: Sales, Table: Currency, Number of Columns: 3\n",
      "  Column: CurrencyCode (NCHAR(3) COLLATE \"SQL_Latin1_General_CP1_CI_AS\")\n",
      "  Column: Name (NVARCHAR(50) COLLATE \"SQL_Latin1_General_CP1_CI_AS\")\n",
      "  Column: ModifiedDate (DATETIME)\n",
      "\n",
      "Schema: Sales, Table: CurrencyRate, Number of Columns: 7\n",
      "  Column: CurrencyRateID (INTEGER)\n",
      "  Column: CurrencyRateDate (DATETIME)\n",
      "  Column: FromCurrencyCode (NCHAR(3) COLLATE \"SQL_Latin1_General_CP1_CI_AS\")\n",
      "  Column: ToCurrencyCode (NCHAR(3) COLLATE \"SQL_Latin1_General_CP1_CI_AS\")\n",
      "  Column: AverageRate (MONEY)\n",
      "  Column: EndOfDayRate (MONEY)\n",
      "  Column: ModifiedDate (DATETIME)\n",
      "\n",
      "Schema: Sales, Table: Customer, Number of Columns: 7\n",
      "  Column: CustomerID (INTEGER)\n",
      "  Column: PersonID (INTEGER)\n",
      "  Column: StoreID (INTEGER)\n",
      "  Column: TerritoryID (INTEGER)\n",
      "  Column: AccountNumber (VARCHAR(10) COLLATE \"SQL_Latin1_General_CP1_CI_AS\")\n",
      "  Column: rowguid (UNIQUEIDENTIFIER)\n",
      "  Column: ModifiedDate (DATETIME)\n",
      "\n",
      "Schema: Sales, Table: MontyPython, Number of Columns: 2\n",
      "  Column: Sketch (VARCHAR COLLATE \"SQL_Latin1_General_CP1_CI_AS\")\n",
      "  Column: Length (VARCHAR COLLATE \"SQL_Latin1_General_CP1_CI_AS\")\n",
      "\n",
      "Schema: Sales, Table: PersonCreditCard, Number of Columns: 3\n",
      "  Column: BusinessEntityID (INTEGER)\n",
      "  Column: CreditCardID (INTEGER)\n",
      "  Column: ModifiedDate (DATETIME)\n",
      "\n",
      "Schema: Sales, Table: SalesOrderDetail, Number of Columns: 11\n",
      "  Column: SalesOrderID (INTEGER)\n",
      "  Column: SalesOrderDetailID (INTEGER)\n",
      "  Column: CarrierTrackingNumber (NVARCHAR(25) COLLATE \"SQL_Latin1_General_CP1_CI_AS\")\n",
      "  Column: OrderQty (SMALLINT)\n",
      "  Column: ProductID (INTEGER)\n",
      "  Column: SpecialOfferID (INTEGER)\n",
      "  Column: UnitPrice (MONEY)\n",
      "  Column: UnitPriceDiscount (MONEY)\n",
      "  Column: LineTotal (NUMERIC(38, 6))\n",
      "  Column: rowguid (UNIQUEIDENTIFIER)\n",
      "  Column: ModifiedDate (DATETIME)\n",
      "\n",
      "Schema: Sales, Table: SalesOrderHeader, Number of Columns: 26\n",
      "  Column: SalesOrderID (INTEGER)\n",
      "  Column: RevisionNumber (TINYINT)\n",
      "  Column: OrderDate (DATETIME)\n",
      "  Column: DueDate (DATETIME)\n",
      "  Column: ShipDate (DATETIME)\n",
      "  Column: Status (TINYINT)\n",
      "  Column: OnlineOrderFlag (BIT)\n",
      "  Column: SalesOrderNumber (NVARCHAR(25) COLLATE \"SQL_Latin1_General_CP1_CI_AS\")\n",
      "  Column: PurchaseOrderNumber (NVARCHAR(25) COLLATE \"SQL_Latin1_General_CP1_CI_AS\")\n",
      "  Column: AccountNumber (NVARCHAR(15) COLLATE \"SQL_Latin1_General_CP1_CI_AS\")\n",
      "  Column: CustomerID (INTEGER)\n",
      "  Column: SalesPersonID (INTEGER)\n",
      "  Column: TerritoryID (INTEGER)\n",
      "  Column: BillToAddressID (INTEGER)\n",
      "  Column: ShipToAddressID (INTEGER)\n",
      "  Column: ShipMethodID (INTEGER)\n",
      "  Column: CreditCardID (INTEGER)\n",
      "  Column: CreditCardApprovalCode (VARCHAR(15) COLLATE \"SQL_Latin1_General_CP1_CI_AS\")\n",
      "  Column: CurrencyRateID (INTEGER)\n",
      "  Column: SubTotal (MONEY)\n",
      "  Column: TaxAmt (MONEY)\n",
      "  Column: Freight (MONEY)\n",
      "  Column: TotalDue (MONEY)\n",
      "  Column: Comment (NVARCHAR(128) COLLATE \"SQL_Latin1_General_CP1_CI_AS\")\n",
      "  Column: rowguid (UNIQUEIDENTIFIER)\n",
      "  Column: ModifiedDate (DATETIME)\n",
      "\n",
      "Schema: Sales, Table: SalesOrderHeaderSalesReason, Number of Columns: 3\n",
      "  Column: SalesOrderID (INTEGER)\n",
      "  Column: SalesReasonID (INTEGER)\n",
      "  Column: ModifiedDate (DATETIME)\n",
      "\n",
      "Schema: Sales, Table: SalesPerson, Number of Columns: 9\n",
      "  Column: BusinessEntityID (INTEGER)\n",
      "  Column: TerritoryID (INTEGER)\n",
      "  Column: SalesQuota (MONEY)\n",
      "  Column: Bonus (MONEY)\n",
      "  Column: CommissionPct (SMALLMONEY)\n",
      "  Column: SalesYTD (MONEY)\n",
      "  Column: SalesLastYear (MONEY)\n",
      "  Column: rowguid (UNIQUEIDENTIFIER)\n",
      "  Column: ModifiedDate (DATETIME)\n",
      "\n",
      "Schema: Sales, Table: SalesPersonQuotaHistory, Number of Columns: 5\n",
      "  Column: BusinessEntityID (INTEGER)\n",
      "  Column: QuotaDate (DATETIME)\n",
      "  Column: SalesQuota (MONEY)\n",
      "  Column: rowguid (UNIQUEIDENTIFIER)\n",
      "  Column: ModifiedDate (DATETIME)\n"
     ]
    },
    {
     "name": "stderr",
     "output_type": "stream",
     "text": [
      "C:\\Users\\marya\\AppData\\Local\\Temp\\ipykernel_2540\\1858082475.py:4: SAWarning:\n",
      "\n",
      "Did not recognize type 'hierarchyid' of column 'OrganizationNode'\n",
      "\n",
      "C:\\Users\\marya\\AppData\\Local\\Temp\\ipykernel_2540\\1858082475.py:4: SAWarning:\n",
      "\n",
      "Did not recognize type 'geography' of column 'SpatialLocation'\n",
      "\n"
     ]
    },
    {
     "name": "stdout",
     "output_type": "stream",
     "text": [
      "\n",
      "Schema: Sales, Table: SalesReason, Number of Columns: 4\n",
      "  Column: SalesReasonID (INTEGER)\n",
      "  Column: Name (NVARCHAR(50) COLLATE \"SQL_Latin1_General_CP1_CI_AS\")\n",
      "  Column: ReasonType (NVARCHAR(50) COLLATE \"SQL_Latin1_General_CP1_CI_AS\")\n",
      "  Column: ModifiedDate (DATETIME)\n",
      "\n",
      "Schema: Sales, Table: SalesTaxRate, Number of Columns: 7\n",
      "  Column: SalesTaxRateID (INTEGER)\n",
      "  Column: StateProvinceID (INTEGER)\n",
      "  Column: TaxType (TINYINT)\n",
      "  Column: TaxRate (SMALLMONEY)\n",
      "  Column: Name (NVARCHAR(50) COLLATE \"SQL_Latin1_General_CP1_CI_AS\")\n",
      "  Column: rowguid (UNIQUEIDENTIFIER)\n",
      "  Column: ModifiedDate (DATETIME)\n",
      "\n",
      "Schema: Sales, Table: SalesTerritory, Number of Columns: 10\n",
      "  Column: TerritoryID (INTEGER)\n",
      "  Column: Name (NVARCHAR(50) COLLATE \"SQL_Latin1_General_CP1_CI_AS\")\n",
      "  Column: CountryRegionCode (NVARCHAR(3) COLLATE \"SQL_Latin1_General_CP1_CI_AS\")\n",
      "  Column: Group (NVARCHAR(50) COLLATE \"SQL_Latin1_General_CP1_CI_AS\")\n",
      "  Column: SalesYTD (MONEY)\n",
      "  Column: SalesLastYear (MONEY)\n",
      "  Column: CostYTD (MONEY)\n",
      "  Column: CostLastYear (MONEY)\n",
      "  Column: rowguid (UNIQUEIDENTIFIER)\n",
      "  Column: ModifiedDate (DATETIME)\n",
      "\n",
      "Schema: Sales, Table: SalesTerritoryHistory, Number of Columns: 6\n",
      "  Column: BusinessEntityID (INTEGER)\n",
      "  Column: TerritoryID (INTEGER)\n",
      "  Column: StartDate (DATETIME)\n",
      "  Column: EndDate (DATETIME)\n",
      "  Column: rowguid (UNIQUEIDENTIFIER)\n",
      "  Column: ModifiedDate (DATETIME)\n",
      "\n",
      "Schema: Sales, Table: ShoppingCartItem, Number of Columns: 6\n",
      "  Column: ShoppingCartItemID (INTEGER)\n",
      "  Column: ShoppingCartID (NVARCHAR(50) COLLATE \"SQL_Latin1_General_CP1_CI_AS\")\n",
      "  Column: Quantity (INTEGER)\n",
      "  Column: ProductID (INTEGER)\n",
      "  Column: DateCreated (DATETIME)\n",
      "  Column: ModifiedDate (DATETIME)\n",
      "\n",
      "Schema: Sales, Table: SpecialOffer, Number of Columns: 11\n",
      "  Column: SpecialOfferID (INTEGER)\n",
      "  Column: Description (NVARCHAR(255) COLLATE \"SQL_Latin1_General_CP1_CI_AS\")\n",
      "  Column: DiscountPct (SMALLMONEY)\n",
      "  Column: Type (NVARCHAR(50) COLLATE \"SQL_Latin1_General_CP1_CI_AS\")\n",
      "  Column: Category (NVARCHAR(50) COLLATE \"SQL_Latin1_General_CP1_CI_AS\")\n",
      "  Column: StartDate (DATETIME)\n",
      "  Column: EndDate (DATETIME)\n",
      "  Column: MinQty (INTEGER)\n",
      "  Column: MaxQty (INTEGER)\n",
      "  Column: rowguid (UNIQUEIDENTIFIER)\n",
      "  Column: ModifiedDate (DATETIME)\n",
      "\n",
      "Schema: Sales, Table: SpecialOfferProduct, Number of Columns: 4\n",
      "  Column: SpecialOfferID (INTEGER)\n",
      "  Column: ProductID (INTEGER)\n",
      "  Column: rowguid (UNIQUEIDENTIFIER)\n",
      "  Column: ModifiedDate (DATETIME)\n",
      "\n",
      "Schema: Sales, Table: Store, Number of Columns: 6\n",
      "  Column: BusinessEntityID (INTEGER)\n",
      "  Column: Name (NVARCHAR(50) COLLATE \"SQL_Latin1_General_CP1_CI_AS\")\n",
      "  Column: SalesPersonID (INTEGER)\n",
      "  Column: Demographics (XML)\n",
      "  Column: rowguid (UNIQUEIDENTIFIER)\n",
      "  Column: ModifiedDate (DATETIME)\n",
      "\n",
      "Schema: Purchasing, Table: ProductVendor, Number of Columns: 11\n",
      "  Column: ProductID (INTEGER)\n",
      "  Column: BusinessEntityID (INTEGER)\n",
      "  Column: AverageLeadTime (INTEGER)\n",
      "  Column: StandardPrice (MONEY)\n",
      "  Column: LastReceiptCost (MONEY)\n",
      "  Column: LastReceiptDate (DATETIME)\n",
      "  Column: MinOrderQty (INTEGER)\n",
      "  Column: MaxOrderQty (INTEGER)\n",
      "  Column: OnOrderQty (INTEGER)\n",
      "  Column: UnitMeasureCode (NCHAR(3) COLLATE \"SQL_Latin1_General_CP1_CI_AS\")\n",
      "  Column: ModifiedDate (DATETIME)\n",
      "\n",
      "Schema: Purchasing, Table: PurchaseOrderDetail, Number of Columns: 11\n",
      "  Column: PurchaseOrderID (INTEGER)\n",
      "  Column: PurchaseOrderDetailID (INTEGER)\n",
      "  Column: DueDate (DATETIME)\n",
      "  Column: OrderQty (SMALLINT)\n",
      "  Column: ProductID (INTEGER)\n",
      "  Column: UnitPrice (MONEY)\n",
      "  Column: LineTotal (MONEY)\n",
      "  Column: ReceivedQty (DECIMAL(8, 2))\n",
      "  Column: RejectedQty (DECIMAL(8, 2))\n",
      "  Column: StockedQty (DECIMAL(9, 2))\n",
      "  Column: ModifiedDate (DATETIME)\n",
      "\n",
      "Schema: Purchasing, Table: PurchaseOrderHeader, Number of Columns: 13\n",
      "  Column: PurchaseOrderID (INTEGER)\n",
      "  Column: RevisionNumber (TINYINT)\n",
      "  Column: Status (TINYINT)\n",
      "  Column: EmployeeID (INTEGER)\n",
      "  Column: VendorID (INTEGER)\n",
      "  Column: ShipMethodID (INTEGER)\n",
      "  Column: OrderDate (DATETIME)\n",
      "  Column: ShipDate (DATETIME)\n",
      "  Column: SubTotal (MONEY)\n",
      "  Column: TaxAmt (MONEY)\n",
      "  Column: Freight (MONEY)\n",
      "  Column: TotalDue (MONEY)\n",
      "  Column: ModifiedDate (DATETIME)\n",
      "\n",
      "Schema: Purchasing, Table: ShipMethod, Number of Columns: 6\n",
      "  Column: ShipMethodID (INTEGER)\n",
      "  Column: Name (NVARCHAR(50) COLLATE \"SQL_Latin1_General_CP1_CI_AS\")\n",
      "  Column: ShipBase (MONEY)\n",
      "  Column: ShipRate (MONEY)\n",
      "  Column: rowguid (UNIQUEIDENTIFIER)\n",
      "  Column: ModifiedDate (DATETIME)\n",
      "\n",
      "Schema: Purchasing, Table: Vendor, Number of Columns: 8\n",
      "  Column: BusinessEntityID (INTEGER)\n",
      "  Column: AccountNumber (NVARCHAR(15) COLLATE \"SQL_Latin1_General_CP1_CI_AS\")\n",
      "  Column: Name (NVARCHAR(50) COLLATE \"SQL_Latin1_General_CP1_CI_AS\")\n",
      "  Column: CreditRating (TINYINT)\n",
      "  Column: PreferredVendorStatus (BIT)\n",
      "  Column: ActiveFlag (BIT)\n",
      "  Column: PurchasingWebServiceURL (NVARCHAR(1024) COLLATE \"SQL_Latin1_General_CP1_CI_AS\")\n",
      "  Column: ModifiedDate (DATETIME)\n",
      "\n",
      "Schema: Production, Table: BillOfMaterials, Number of Columns: 9\n",
      "  Column: BillOfMaterialsID (INTEGER)\n",
      "  Column: ProductAssemblyID (INTEGER)\n",
      "  Column: ComponentID (INTEGER)\n",
      "  Column: StartDate (DATETIME)\n",
      "  Column: EndDate (DATETIME)\n",
      "  Column: UnitMeasureCode (NCHAR(3) COLLATE \"SQL_Latin1_General_CP1_CI_AS\")\n",
      "  Column: BOMLevel (SMALLINT)\n",
      "  Column: PerAssemblyQty (DECIMAL(8, 2))\n",
      "  Column: ModifiedDate (DATETIME)\n",
      "\n",
      "Schema: Production, Table: Culture, Number of Columns: 3\n",
      "  Column: CultureID (NCHAR(6) COLLATE \"SQL_Latin1_General_CP1_CI_AS\")\n",
      "  Column: Name (NVARCHAR(50) COLLATE \"SQL_Latin1_General_CP1_CI_AS\")\n",
      "  Column: ModifiedDate (DATETIME)\n",
      "\n",
      "Schema: Production, Table: Document, Number of Columns: 14\n",
      "  Column: DocumentNode (NULL)\n",
      "  Column: DocumentLevel (SMALLINT)\n",
      "  Column: Title (NVARCHAR(50) COLLATE \"SQL_Latin1_General_CP1_CI_AS\")\n",
      "  Column: Owner (INTEGER)\n",
      "  Column: FolderFlag (BIT)\n",
      "  Column: FileName (NVARCHAR(400) COLLATE \"SQL_Latin1_General_CP1_CI_AS\")\n",
      "  Column: FileExtension (NVARCHAR(8) COLLATE \"SQL_Latin1_General_CP1_CI_AS\")\n",
      "  Column: Revision (NCHAR(5) COLLATE \"SQL_Latin1_General_CP1_CI_AS\")\n",
      "  Column: ChangeNumber (INTEGER)\n",
      "  Column: Status (TINYINT)\n",
      "  Column: DocumentSummary (NVARCHAR COLLATE \"SQL_Latin1_General_CP1_CI_AS\")\n",
      "  Column: Document (VARBINARY)\n",
      "  Column: rowguid (UNIQUEIDENTIFIER)\n",
      "  Column: ModifiedDate (DATETIME)\n",
      "\n",
      "Schema: Production, Table: Illustration, Number of Columns: 3\n",
      "  Column: IllustrationID (INTEGER)\n",
      "  Column: Diagram (XML)\n",
      "  Column: ModifiedDate (DATETIME)\n",
      "\n",
      "Schema: Production, Table: Location, Number of Columns: 5\n",
      "  Column: LocationID (SMALLINT)\n",
      "  Column: Name (NVARCHAR(50) COLLATE \"SQL_Latin1_General_CP1_CI_AS\")\n",
      "  Column: CostRate (SMALLMONEY)\n",
      "  Column: Availability (DECIMAL(8, 2))\n",
      "  Column: ModifiedDate (DATETIME)\n",
      "\n",
      "Schema: Production, Table: Product, Number of Columns: 25\n",
      "  Column: ProductID (INTEGER)\n",
      "  Column: Name (NVARCHAR(50) COLLATE \"SQL_Latin1_General_CP1_CI_AS\")\n",
      "  Column: ProductNumber (NVARCHAR(25) COLLATE \"SQL_Latin1_General_CP1_CI_AS\")\n",
      "  Column: MakeFlag (BIT)\n",
      "  Column: FinishedGoodsFlag (BIT)\n",
      "  Column: Color (NVARCHAR(15) COLLATE \"SQL_Latin1_General_CP1_CI_AS\")\n",
      "  Column: SafetyStockLevel (SMALLINT)\n",
      "  Column: ReorderPoint (SMALLINT)\n",
      "  Column: StandardCost (MONEY)\n",
      "  Column: ListPrice (MONEY)\n",
      "  Column: Size (NVARCHAR(5) COLLATE \"SQL_Latin1_General_CP1_CI_AS\")\n",
      "  Column: SizeUnitMeasureCode (NCHAR(3) COLLATE \"SQL_Latin1_General_CP1_CI_AS\")\n",
      "  Column: WeightUnitMeasureCode (NCHAR(3) COLLATE \"SQL_Latin1_General_CP1_CI_AS\")\n",
      "  Column: Weight (DECIMAL(8, 2))\n",
      "  Column: DaysToManufacture (INTEGER)\n",
      "  Column: ProductLine (NCHAR(2) COLLATE \"SQL_Latin1_General_CP1_CI_AS\")\n",
      "  Column: Class (NCHAR(2) COLLATE \"SQL_Latin1_General_CP1_CI_AS\")\n",
      "  Column: Style (NCHAR(2) COLLATE \"SQL_Latin1_General_CP1_CI_AS\")\n",
      "  Column: ProductSubcategoryID (INTEGER)\n",
      "  Column: ProductModelID (INTEGER)\n",
      "  Column: SellStartDate (DATETIME)\n",
      "  Column: SellEndDate (DATETIME)\n",
      "  Column: DiscontinuedDate (DATETIME)\n",
      "  Column: rowguid (UNIQUEIDENTIFIER)\n",
      "  Column: ModifiedDate (DATETIME)\n",
      "\n",
      "Schema: Production, Table: ProductCategory, Number of Columns: 4\n",
      "  Column: ProductCategoryID (INTEGER)\n",
      "  Column: Name (NVARCHAR(50) COLLATE \"SQL_Latin1_General_CP1_CI_AS\")\n",
      "  Column: rowguid (UNIQUEIDENTIFIER)\n",
      "  Column: ModifiedDate (DATETIME)\n",
      "\n",
      "Schema: Production, Table: ProductCostHistory, Number of Columns: 5\n",
      "  Column: ProductID (INTEGER)\n",
      "  Column: StartDate (DATETIME)\n",
      "  Column: EndDate (DATETIME)\n",
      "  Column: StandardCost (MONEY)\n",
      "  Column: ModifiedDate (DATETIME)\n",
      "\n",
      "Schema: Production, Table: ProductDescription, Number of Columns: 4\n",
      "  Column: ProductDescriptionID (INTEGER)\n",
      "  Column: Description (NVARCHAR(400) COLLATE \"SQL_Latin1_General_CP1_CI_AS\")\n",
      "  Column: rowguid (UNIQUEIDENTIFIER)\n",
      "  Column: ModifiedDate (DATETIME)\n",
      "\n",
      "Schema: Production, Table: ProductDocument, Number of Columns: 3\n",
      "  Column: ProductID (INTEGER)\n",
      "  Column: DocumentNode (NULL)\n",
      "  Column: ModifiedDate (DATETIME)\n",
      "\n",
      "Schema: Production, Table: ProductInventory, Number of Columns: 7\n",
      "  Column: ProductID (INTEGER)\n",
      "  Column: LocationID (SMALLINT)\n",
      "  Column: Shelf (NVARCHAR(10) COLLATE \"SQL_Latin1_General_CP1_CI_AS\")\n",
      "  Column: Bin (TINYINT)\n",
      "  Column: Quantity (SMALLINT)\n",
      "  Column: rowguid (UNIQUEIDENTIFIER)\n",
      "  Column: ModifiedDate (DATETIME)\n",
      "\n",
      "Schema: Production, Table: ProductListPriceHistory, Number of Columns: 5\n",
      "  Column: ProductID (INTEGER)\n",
      "  Column: StartDate (DATETIME)\n",
      "  Column: EndDate (DATETIME)\n",
      "  Column: ListPrice (MONEY)\n",
      "  Column: ModifiedDate (DATETIME)\n",
      "\n",
      "Schema: Production, Table: ProductModel, Number of Columns: 6\n",
      "  Column: ProductModelID (INTEGER)\n",
      "  Column: Name (NVARCHAR(50) COLLATE \"SQL_Latin1_General_CP1_CI_AS\")\n",
      "  Column: CatalogDescription (XML)\n",
      "  Column: Instructions (XML)\n",
      "  Column: rowguid (UNIQUEIDENTIFIER)\n",
      "  Column: ModifiedDate (DATETIME)\n",
      "\n",
      "Schema: Production, Table: ProductModelIllustration, Number of Columns: 3\n",
      "  Column: ProductModelID (INTEGER)\n",
      "  Column: IllustrationID (INTEGER)\n",
      "  Column: ModifiedDate (DATETIME)\n",
      "\n",
      "Schema: Production, Table: ProductModelProductDescriptionCulture, Number of Columns: 4\n",
      "  Column: ProductModelID (INTEGER)\n",
      "  Column: ProductDescriptionID (INTEGER)\n",
      "  Column: CultureID (NCHAR(6) COLLATE \"SQL_Latin1_General_CP1_CI_AS\")\n",
      "  Column: ModifiedDate (DATETIME)\n",
      "\n",
      "Schema: Production, Table: ProductPhoto, Number of Columns: 6\n",
      "  Column: ProductPhotoID (INTEGER)\n",
      "  Column: ThumbNailPhoto (VARBINARY)\n",
      "  Column: ThumbnailPhotoFileName (NVARCHAR(50) COLLATE \"SQL_Latin1_General_CP1_CI_AS\")\n",
      "  Column: LargePhoto (VARBINARY)\n",
      "  Column: LargePhotoFileName (NVARCHAR(50) COLLATE \"SQL_Latin1_General_CP1_CI_AS\")\n",
      "  Column: ModifiedDate (DATETIME)\n",
      "\n",
      "Schema: Production, Table: ProductProductPhoto, Number of Columns: 4\n",
      "  Column: ProductID (INTEGER)\n",
      "  Column: ProductPhotoID (INTEGER)\n",
      "  Column: Primary (BIT)\n",
      "  Column: ModifiedDate (DATETIME)\n",
      "\n",
      "Schema: Production, Table: ProductReview, Number of Columns: 8\n",
      "  Column: ProductReviewID (INTEGER)\n",
      "  Column: ProductID (INTEGER)\n",
      "  Column: ReviewerName (NVARCHAR(50) COLLATE \"SQL_Latin1_General_CP1_CI_AS\")\n",
      "  Column: ReviewDate (DATETIME)\n",
      "  Column: EmailAddress (NVARCHAR(50) COLLATE \"SQL_Latin1_General_CP1_CI_AS\")\n",
      "  Column: Rating (INTEGER)\n",
      "  Column: Comments (NVARCHAR(3850) COLLATE \"SQL_Latin1_General_CP1_CI_AS\")\n",
      "  Column: ModifiedDate (DATETIME)\n",
      "\n",
      "Schema: Production, Table: ProductSubcategory, Number of Columns: 5\n",
      "  Column: ProductSubcategoryID (INTEGER)\n",
      "  Column: ProductCategoryID (INTEGER)\n",
      "  Column: Name (NVARCHAR(50) COLLATE \"SQL_Latin1_General_CP1_CI_AS\")\n",
      "  Column: rowguid (UNIQUEIDENTIFIER)\n",
      "  Column: ModifiedDate (DATETIME)\n",
      "\n",
      "Schema: Production, Table: ScrapReason, Number of Columns: 3\n",
      "  Column: ScrapReasonID (SMALLINT)\n",
      "  Column: Name (NVARCHAR(50) COLLATE \"SQL_Latin1_General_CP1_CI_AS\")\n",
      "  Column: ModifiedDate (DATETIME)\n",
      "\n",
      "Schema: Production, Table: TransactionHistory, Number of Columns: 9\n",
      "  Column: TransactionID (INTEGER)\n",
      "  Column: ProductID (INTEGER)\n",
      "  Column: ReferenceOrderID (INTEGER)\n",
      "  Column: ReferenceOrderLineID (INTEGER)\n",
      "  Column: TransactionDate (DATETIME)\n",
      "  Column: TransactionType (NCHAR(1) COLLATE \"SQL_Latin1_General_CP1_CI_AS\")\n",
      "  Column: Quantity (INTEGER)\n",
      "  Column: ActualCost (MONEY)\n",
      "  Column: ModifiedDate (DATETIME)\n",
      "\n",
      "Schema: Production, Table: TransactionHistoryArchive, Number of Columns: 9\n",
      "  Column: TransactionID (INTEGER)\n",
      "  Column: ProductID (INTEGER)\n",
      "  Column: ReferenceOrderID (INTEGER)\n",
      "  Column: ReferenceOrderLineID (INTEGER)\n",
      "  Column: TransactionDate (DATETIME)\n",
      "  Column: TransactionType (NCHAR(1) COLLATE \"SQL_Latin1_General_CP1_CI_AS\")\n",
      "  Column: Quantity (INTEGER)\n",
      "  Column: ActualCost (MONEY)\n",
      "  Column: ModifiedDate (DATETIME)\n",
      "\n",
      "Schema: Production, Table: UnitMeasure, Number of Columns: 3\n",
      "  Column: UnitMeasureCode (NCHAR(3) COLLATE \"SQL_Latin1_General_CP1_CI_AS\")\n",
      "  Column: Name (NVARCHAR(50) COLLATE \"SQL_Latin1_General_CP1_CI_AS\")\n",
      "  Column: ModifiedDate (DATETIME)\n",
      "\n",
      "Schema: Production, Table: WorkOrder, Number of Columns: 10\n",
      "  Column: WorkOrderID (INTEGER)\n",
      "  Column: ProductID (INTEGER)\n",
      "  Column: OrderQty (INTEGER)\n",
      "  Column: StockedQty (INTEGER)\n",
      "  Column: ScrappedQty (SMALLINT)\n",
      "  Column: StartDate (DATETIME)\n",
      "  Column: EndDate (DATETIME)\n",
      "  Column: DueDate (DATETIME)\n",
      "  Column: ScrapReasonID (SMALLINT)\n",
      "  Column: ModifiedDate (DATETIME)\n",
      "\n",
      "Schema: Production, Table: WorkOrderRouting, Number of Columns: 12\n",
      "  Column: WorkOrderID (INTEGER)\n",
      "  Column: ProductID (INTEGER)\n",
      "  Column: OperationSequence (SMALLINT)\n",
      "  Column: LocationID (SMALLINT)\n",
      "  Column: ScheduledStartDate (DATETIME)\n",
      "  Column: ScheduledEndDate (DATETIME)\n",
      "  Column: ActualStartDate (DATETIME)\n",
      "  Column: ActualEndDate (DATETIME)\n",
      "  Column: ActualResourceHrs (DECIMAL(9, 4))\n",
      "  Column: PlannedCost (MONEY)\n",
      "  Column: ActualCost (MONEY)\n",
      "  Column: ModifiedDate (DATETIME)\n"
     ]
    },
    {
     "name": "stderr",
     "output_type": "stream",
     "text": [
      "C:\\Users\\marya\\AppData\\Local\\Temp\\ipykernel_2540\\1858082475.py:4: SAWarning:\n",
      "\n",
      "Did not recognize type 'hierarchyid' of column 'DocumentNode'\n",
      "\n"
     ]
    }
   ],
   "source": [
    "for schema in favorite_schemas:\n",
    "    tables = inspector.get_table_names(schema=schema)\n",
    "    for table in tables:\n",
    "        columns = inspector.get_columns(table, schema=schema)\n",
    "        column_count = len(columns)  # Count the number of tables\n",
    "        print()\n",
    "        print(f\"Schema: {schema}, Table: {table}, Number of Columns: {column_count}\" )\n",
    "        for col in columns:\n",
    "            print(f\"  Column: {col['name']} ({col['type']})\")\n",
    "        "
   ]
  },
  {
   "cell_type": "markdown",
   "metadata": {},
   "source": [
    "Next. I show the relationship between tables.  The query shows the relationships between tables based on primary & foreign keys defined in the database.\n",
    "* A child table is dependent on the parent table. It contains a foreign key that references the primary key of the parent table."
   ]
  },
  {
   "cell_type": "code",
   "execution_count": null,
   "metadata": {},
   "outputs": [
    {
     "name": "stdout",
     "output_type": "stream",
     "text": [
      "       ParentTable             ChildTable\n",
      "0    StateProvince                Address\n",
      "1          Product        BillOfMaterials\n",
      "2          Product        BillOfMaterials\n",
      "3      UnitMeasure        BillOfMaterials\n",
      "4          Address  BusinessEntityAddress\n",
      "..             ...                    ...\n",
      "85  BusinessEntity                 Vendor\n",
      "86         Product              WorkOrder\n",
      "87     ScrapReason              WorkOrder\n",
      "88        Location       WorkOrderRouting\n",
      "89       WorkOrder       WorkOrderRouting\n",
      "\n",
      "[90 rows x 2 columns]\n"
     ]
    }
   ],
   "source": [
    "#  for visualizing table relationships in our database\n",
    "relationship_sql = \"\"\"\n",
    "SELECT \n",
    "OBJECT_NAME(fk.referenced_object_id) AS ParentTable,\n",
    "OBJECT_NAME(fk.parent_object_id) AS ChildTable\n",
    "FROM sys.foreign_keys fk\n",
    "\"\"\"\n",
    "\n",
    "relationship_df = pd.read_sql(sql=relationship_sql, con=connection)  #reads the result of a SQL query into a pandas DataFrame\n",
    "print(relationship_df)"
   ]
  },
  {
   "cell_type": "markdown",
   "metadata": {},
   "source": [
    "I have now explored the database \"AdventureWorks2022\" , which consists of five schemas and each schema focuses on a specific business area: HumanResources (6 tables), Person (13 tables), Sales (20 tables), Purchasing (5 tables), and Production (25 tables). I examined the structure of the database, identifying the number, names, and data types of the columns in each table. Additionally, I explored the relationships between tables to understand how different business areas are interconnected."
   ]
  },
  {
   "cell_type": "markdown",
   "metadata": {},
   "source": [
    "I continue with focusing on \"Sales\" schema which has 20 tables: \n",
    "'CountryRegionCurrency', 'CreditCard', 'Currency', 'CurrencyRate', 'Customer', 'MontyPython', 'PersonCreditCard', 'SalesOrderDetail', 'SalesOrderHeader', 'SalesOrderHeaderSalesReason', 'SalesPerson', 'SalesPersonQuotaHistory', 'SalesReason', 'SalesTaxRate', 'SalesTerritory', 'SalesTerritoryHistory', 'ShoppingCartItem', 'SpecialOffer', 'SpecialOfferProduct', 'Store'.\n",
    "\n",
    "I will look at 'SalesPerson' table which has 9 columns:\n"
   ]
  },
  {
   "cell_type": "code",
   "execution_count": 392,
   "metadata": {},
   "outputs": [
    {
     "data": {
      "text/html": [
       "<div>\n",
       "<style scoped>\n",
       "    .dataframe tbody tr th:only-of-type {\n",
       "        vertical-align: middle;\n",
       "    }\n",
       "\n",
       "    .dataframe tbody tr th {\n",
       "        vertical-align: top;\n",
       "    }\n",
       "\n",
       "    .dataframe thead th {\n",
       "        text-align: right;\n",
       "    }\n",
       "</style>\n",
       "<table border=\"1\" class=\"dataframe\">\n",
       "  <thead>\n",
       "    <tr style=\"text-align: right;\">\n",
       "      <th></th>\n",
       "      <th>COLUMN_NAME</th>\n",
       "    </tr>\n",
       "  </thead>\n",
       "  <tbody>\n",
       "    <tr>\n",
       "      <th>0</th>\n",
       "      <td>BusinessEntityID</td>\n",
       "    </tr>\n",
       "    <tr>\n",
       "      <th>1</th>\n",
       "      <td>TerritoryID</td>\n",
       "    </tr>\n",
       "    <tr>\n",
       "      <th>2</th>\n",
       "      <td>SalesQuota</td>\n",
       "    </tr>\n",
       "    <tr>\n",
       "      <th>3</th>\n",
       "      <td>Bonus</td>\n",
       "    </tr>\n",
       "    <tr>\n",
       "      <th>4</th>\n",
       "      <td>CommissionPct</td>\n",
       "    </tr>\n",
       "    <tr>\n",
       "      <th>5</th>\n",
       "      <td>SalesYTD</td>\n",
       "    </tr>\n",
       "    <tr>\n",
       "      <th>6</th>\n",
       "      <td>SalesLastYear</td>\n",
       "    </tr>\n",
       "    <tr>\n",
       "      <th>7</th>\n",
       "      <td>rowguid</td>\n",
       "    </tr>\n",
       "    <tr>\n",
       "      <th>8</th>\n",
       "      <td>ModifiedDate</td>\n",
       "    </tr>\n",
       "  </tbody>\n",
       "</table>\n",
       "</div>"
      ],
      "text/plain": [
       "        COLUMN_NAME\n",
       "0  BusinessEntityID\n",
       "1       TerritoryID\n",
       "2        SalesQuota\n",
       "3             Bonus\n",
       "4     CommissionPct\n",
       "5          SalesYTD\n",
       "6     SalesLastYear\n",
       "7           rowguid\n",
       "8      ModifiedDate"
      ]
     },
     "execution_count": 392,
     "metadata": {},
     "output_type": "execute_result"
    }
   ],
   "source": [
    "salesperson_columns = \"\"\"SELECT COLUMN_NAME\n",
    "FROM INFORMATION_SCHEMA.COLUMNS\n",
    "WHERE TABLE_NAME = 'SalesPerson'\n",
    "\"\"\"\n",
    "pd.read_sql(sql=salesperson_columns, con=connection)"
   ]
  },
  {
   "cell_type": "markdown",
   "metadata": {},
   "source": [
    "Then I search the number of raws (number of salesperson) in the table (SalesPerson):"
   ]
  },
  {
   "cell_type": "code",
   "execution_count": 347,
   "metadata": {},
   "outputs": [
    {
     "data": {
      "text/html": [
       "<div>\n",
       "<style scoped>\n",
       "    .dataframe tbody tr th:only-of-type {\n",
       "        vertical-align: middle;\n",
       "    }\n",
       "\n",
       "    .dataframe tbody tr th {\n",
       "        vertical-align: top;\n",
       "    }\n",
       "\n",
       "    .dataframe thead th {\n",
       "        text-align: right;\n",
       "    }\n",
       "</style>\n",
       "<table border=\"1\" class=\"dataframe\">\n",
       "  <thead>\n",
       "    <tr style=\"text-align: right;\">\n",
       "      <th></th>\n",
       "      <th>Row_Count</th>\n",
       "    </tr>\n",
       "  </thead>\n",
       "  <tbody>\n",
       "    <tr>\n",
       "      <th>0</th>\n",
       "      <td>17</td>\n",
       "    </tr>\n",
       "  </tbody>\n",
       "</table>\n",
       "</div>"
      ],
      "text/plain": [
       "   Row_Count\n",
       "0         17"
      ]
     },
     "execution_count": 347,
     "metadata": {},
     "output_type": "execute_result"
    }
   ],
   "source": [
    "row_count = \"\"\"SELECT COUNT (*) AS Row_Count FROM Sales.SalesPerson\"\"\"\n",
    "df_row_count = pd.read_sql(sql= row_count, con=connection)\n",
    "df_row_count"
   ]
  },
  {
   "cell_type": "markdown",
   "metadata": {},
   "source": [
    "Then, I will look at the top 5 rows of the 'SalesPerson' table:"
   ]
  },
  {
   "cell_type": "code",
   "execution_count": 348,
   "metadata": {},
   "outputs": [
    {
     "data": {
      "text/html": [
       "<div>\n",
       "<style scoped>\n",
       "    .dataframe tbody tr th:only-of-type {\n",
       "        vertical-align: middle;\n",
       "    }\n",
       "\n",
       "    .dataframe tbody tr th {\n",
       "        vertical-align: top;\n",
       "    }\n",
       "\n",
       "    .dataframe thead th {\n",
       "        text-align: right;\n",
       "    }\n",
       "</style>\n",
       "<table border=\"1\" class=\"dataframe\">\n",
       "  <thead>\n",
       "    <tr style=\"text-align: right;\">\n",
       "      <th></th>\n",
       "      <th>BusinessEntityID</th>\n",
       "      <th>TerritoryID</th>\n",
       "      <th>SalesQuota</th>\n",
       "      <th>Bonus</th>\n",
       "      <th>CommissionPct</th>\n",
       "      <th>SalesYTD</th>\n",
       "      <th>SalesLastYear</th>\n",
       "      <th>rowguid</th>\n",
       "      <th>ModifiedDate</th>\n",
       "    </tr>\n",
       "  </thead>\n",
       "  <tbody>\n",
       "    <tr>\n",
       "      <th>0</th>\n",
       "      <td>274</td>\n",
       "      <td>NaN</td>\n",
       "      <td>NaN</td>\n",
       "      <td>0.0</td>\n",
       "      <td>0.000</td>\n",
       "      <td>5.596976e+05</td>\n",
       "      <td>0.000000e+00</td>\n",
       "      <td>48754992-9EE0-4C0E-8C94-9451604E3E02</td>\n",
       "      <td>2010-12-28</td>\n",
       "    </tr>\n",
       "    <tr>\n",
       "      <th>1</th>\n",
       "      <td>275</td>\n",
       "      <td>2.0</td>\n",
       "      <td>300000.0</td>\n",
       "      <td>4100.0</td>\n",
       "      <td>0.012</td>\n",
       "      <td>3.763178e+06</td>\n",
       "      <td>1.750406e+06</td>\n",
       "      <td>1E0A7274-3064-4F58-88EE-4C6586C87169</td>\n",
       "      <td>2011-05-24</td>\n",
       "    </tr>\n",
       "    <tr>\n",
       "      <th>2</th>\n",
       "      <td>276</td>\n",
       "      <td>4.0</td>\n",
       "      <td>250000.0</td>\n",
       "      <td>2000.0</td>\n",
       "      <td>0.015</td>\n",
       "      <td>4.251369e+06</td>\n",
       "      <td>1.439156e+06</td>\n",
       "      <td>4DD9EEE4-8E81-4F8C-AF97-683394C1F7C0</td>\n",
       "      <td>2011-05-24</td>\n",
       "    </tr>\n",
       "    <tr>\n",
       "      <th>3</th>\n",
       "      <td>277</td>\n",
       "      <td>3.0</td>\n",
       "      <td>250000.0</td>\n",
       "      <td>2500.0</td>\n",
       "      <td>0.015</td>\n",
       "      <td>3.189418e+06</td>\n",
       "      <td>1.997186e+06</td>\n",
       "      <td>39012928-BFEC-4242-874D-423162C3F567</td>\n",
       "      <td>2011-05-24</td>\n",
       "    </tr>\n",
       "    <tr>\n",
       "      <th>4</th>\n",
       "      <td>278</td>\n",
       "      <td>6.0</td>\n",
       "      <td>250000.0</td>\n",
       "      <td>500.0</td>\n",
       "      <td>0.010</td>\n",
       "      <td>1.453719e+06</td>\n",
       "      <td>1.620277e+06</td>\n",
       "      <td>7A0AE1AB-B283-40F9-91D1-167ABF06D720</td>\n",
       "      <td>2011-05-24</td>\n",
       "    </tr>\n",
       "  </tbody>\n",
       "</table>\n",
       "</div>"
      ],
      "text/plain": [
       "   BusinessEntityID  TerritoryID  SalesQuota   Bonus  CommissionPct  \\\n",
       "0               274          NaN         NaN     0.0          0.000   \n",
       "1               275          2.0    300000.0  4100.0          0.012   \n",
       "2               276          4.0    250000.0  2000.0          0.015   \n",
       "3               277          3.0    250000.0  2500.0          0.015   \n",
       "4               278          6.0    250000.0   500.0          0.010   \n",
       "\n",
       "       SalesYTD  SalesLastYear                               rowguid  \\\n",
       "0  5.596976e+05   0.000000e+00  48754992-9EE0-4C0E-8C94-9451604E3E02   \n",
       "1  3.763178e+06   1.750406e+06  1E0A7274-3064-4F58-88EE-4C6586C87169   \n",
       "2  4.251369e+06   1.439156e+06  4DD9EEE4-8E81-4F8C-AF97-683394C1F7C0   \n",
       "3  3.189418e+06   1.997186e+06  39012928-BFEC-4242-874D-423162C3F567   \n",
       "4  1.453719e+06   1.620277e+06  7A0AE1AB-B283-40F9-91D1-167ABF06D720   \n",
       "\n",
       "  ModifiedDate  \n",
       "0   2010-12-28  \n",
       "1   2011-05-24  \n",
       "2   2011-05-24  \n",
       "3   2011-05-24  \n",
       "4   2011-05-24  "
      ]
     },
     "execution_count": 348,
     "metadata": {},
     "output_type": "execute_result"
    }
   ],
   "source": [
    "df_SalesPerson = pd.read_sql(sql=\"SELECT * from Sales.SalesPerson\", con=connection)\n",
    "df_SalesPerson.head(5)"
   ]
  },
  {
   "cell_type": "markdown",
   "metadata": {},
   "source": [
    "I would like to summarize the information about salespersons, including their name, job title, hire date, territory, sales from last year, and current year sales, which are distributed across four tables, into a single table.\""
   ]
  },
  {
   "cell_type": "code",
   "execution_count": 394,
   "metadata": {},
   "outputs": [
    {
     "data": {
      "text/html": [
       "<div>\n",
       "<style scoped>\n",
       "    .dataframe tbody tr th:only-of-type {\n",
       "        vertical-align: middle;\n",
       "    }\n",
       "\n",
       "    .dataframe tbody tr th {\n",
       "        vertical-align: top;\n",
       "    }\n",
       "\n",
       "    .dataframe thead th {\n",
       "        text-align: right;\n",
       "    }\n",
       "</style>\n",
       "<table border=\"1\" class=\"dataframe\">\n",
       "  <thead>\n",
       "    <tr style=\"text-align: right;\">\n",
       "      <th></th>\n",
       "      <th>BusinessEntityID</th>\n",
       "      <th>FirstName</th>\n",
       "      <th>LastName</th>\n",
       "      <th>JobTitle</th>\n",
       "      <th>HireDate</th>\n",
       "      <th>TerritoryName</th>\n",
       "      <th>SalesLastYear</th>\n",
       "      <th>SalesYTD</th>\n",
       "    </tr>\n",
       "  </thead>\n",
       "  <tbody>\n",
       "    <tr>\n",
       "      <th>0</th>\n",
       "      <td>274</td>\n",
       "      <td>Stephen</td>\n",
       "      <td>Jiang</td>\n",
       "      <td>North American Sales Manager</td>\n",
       "      <td>2011-01-04</td>\n",
       "      <td>None</td>\n",
       "      <td>0.000000e+00</td>\n",
       "      <td>5.596976e+05</td>\n",
       "    </tr>\n",
       "    <tr>\n",
       "      <th>1</th>\n",
       "      <td>275</td>\n",
       "      <td>Michael</td>\n",
       "      <td>Blythe</td>\n",
       "      <td>Sales Representative</td>\n",
       "      <td>2011-05-31</td>\n",
       "      <td>Northeast</td>\n",
       "      <td>1.750406e+06</td>\n",
       "      <td>3.763178e+06</td>\n",
       "    </tr>\n",
       "    <tr>\n",
       "      <th>2</th>\n",
       "      <td>276</td>\n",
       "      <td>Linda</td>\n",
       "      <td>Mitchell</td>\n",
       "      <td>Sales Representative</td>\n",
       "      <td>2011-05-31</td>\n",
       "      <td>Southwest</td>\n",
       "      <td>1.439156e+06</td>\n",
       "      <td>4.251369e+06</td>\n",
       "    </tr>\n",
       "    <tr>\n",
       "      <th>3</th>\n",
       "      <td>277</td>\n",
       "      <td>Jillian</td>\n",
       "      <td>Carson</td>\n",
       "      <td>Sales Representative</td>\n",
       "      <td>2011-05-31</td>\n",
       "      <td>Central</td>\n",
       "      <td>1.997186e+06</td>\n",
       "      <td>3.189418e+06</td>\n",
       "    </tr>\n",
       "    <tr>\n",
       "      <th>4</th>\n",
       "      <td>278</td>\n",
       "      <td>Garrett</td>\n",
       "      <td>Vargas</td>\n",
       "      <td>Sales Representative</td>\n",
       "      <td>2011-05-31</td>\n",
       "      <td>Canada</td>\n",
       "      <td>1.620277e+06</td>\n",
       "      <td>1.453719e+06</td>\n",
       "    </tr>\n",
       "    <tr>\n",
       "      <th>5</th>\n",
       "      <td>279</td>\n",
       "      <td>Tsvi</td>\n",
       "      <td>Reiter</td>\n",
       "      <td>Sales Representative</td>\n",
       "      <td>2011-05-31</td>\n",
       "      <td>Southeast</td>\n",
       "      <td>1.849641e+06</td>\n",
       "      <td>2.315186e+06</td>\n",
       "    </tr>\n",
       "    <tr>\n",
       "      <th>6</th>\n",
       "      <td>280</td>\n",
       "      <td>Pamela</td>\n",
       "      <td>Ansman-Wolfe</td>\n",
       "      <td>Sales Representative</td>\n",
       "      <td>2011-05-31</td>\n",
       "      <td>Northwest</td>\n",
       "      <td>1.927059e+06</td>\n",
       "      <td>1.352577e+06</td>\n",
       "    </tr>\n",
       "    <tr>\n",
       "      <th>7</th>\n",
       "      <td>281</td>\n",
       "      <td>Shu</td>\n",
       "      <td>Ito</td>\n",
       "      <td>Sales Representative</td>\n",
       "      <td>2011-05-31</td>\n",
       "      <td>Southwest</td>\n",
       "      <td>2.073506e+06</td>\n",
       "      <td>2.458536e+06</td>\n",
       "    </tr>\n",
       "    <tr>\n",
       "      <th>8</th>\n",
       "      <td>282</td>\n",
       "      <td>José</td>\n",
       "      <td>Saraiva</td>\n",
       "      <td>Sales Representative</td>\n",
       "      <td>2011-05-31</td>\n",
       "      <td>Canada</td>\n",
       "      <td>2.038235e+06</td>\n",
       "      <td>2.604541e+06</td>\n",
       "    </tr>\n",
       "    <tr>\n",
       "      <th>9</th>\n",
       "      <td>283</td>\n",
       "      <td>David</td>\n",
       "      <td>Campbell</td>\n",
       "      <td>Sales Representative</td>\n",
       "      <td>2011-05-31</td>\n",
       "      <td>Northwest</td>\n",
       "      <td>1.371635e+06</td>\n",
       "      <td>1.573013e+06</td>\n",
       "    </tr>\n",
       "    <tr>\n",
       "      <th>10</th>\n",
       "      <td>284</td>\n",
       "      <td>Tete</td>\n",
       "      <td>Mensa-Annan</td>\n",
       "      <td>Sales Representative</td>\n",
       "      <td>2012-09-30</td>\n",
       "      <td>Northwest</td>\n",
       "      <td>0.000000e+00</td>\n",
       "      <td>1.576562e+06</td>\n",
       "    </tr>\n",
       "    <tr>\n",
       "      <th>11</th>\n",
       "      <td>285</td>\n",
       "      <td>Syed</td>\n",
       "      <td>Abbas</td>\n",
       "      <td>Pacific Sales Manager</td>\n",
       "      <td>2013-03-14</td>\n",
       "      <td>None</td>\n",
       "      <td>0.000000e+00</td>\n",
       "      <td>1.725245e+05</td>\n",
       "    </tr>\n",
       "    <tr>\n",
       "      <th>12</th>\n",
       "      <td>286</td>\n",
       "      <td>Lynn</td>\n",
       "      <td>Tsoflias</td>\n",
       "      <td>Sales Representative</td>\n",
       "      <td>2013-05-30</td>\n",
       "      <td>Australia</td>\n",
       "      <td>2.278549e+06</td>\n",
       "      <td>1.421811e+06</td>\n",
       "    </tr>\n",
       "    <tr>\n",
       "      <th>13</th>\n",
       "      <td>287</td>\n",
       "      <td>Amy</td>\n",
       "      <td>Alberts</td>\n",
       "      <td>European Sales Manager</td>\n",
       "      <td>2012-04-16</td>\n",
       "      <td>None</td>\n",
       "      <td>0.000000e+00</td>\n",
       "      <td>5.199059e+05</td>\n",
       "    </tr>\n",
       "    <tr>\n",
       "      <th>14</th>\n",
       "      <td>288</td>\n",
       "      <td>Rachel</td>\n",
       "      <td>Valdez</td>\n",
       "      <td>Sales Representative</td>\n",
       "      <td>2013-05-30</td>\n",
       "      <td>Germany</td>\n",
       "      <td>1.307950e+06</td>\n",
       "      <td>1.827067e+06</td>\n",
       "    </tr>\n",
       "    <tr>\n",
       "      <th>15</th>\n",
       "      <td>289</td>\n",
       "      <td>Jae</td>\n",
       "      <td>Pak</td>\n",
       "      <td>Sales Representative</td>\n",
       "      <td>2012-05-30</td>\n",
       "      <td>United Kingdom</td>\n",
       "      <td>1.635823e+06</td>\n",
       "      <td>4.116871e+06</td>\n",
       "    </tr>\n",
       "    <tr>\n",
       "      <th>16</th>\n",
       "      <td>290</td>\n",
       "      <td>Ranjit</td>\n",
       "      <td>Varkey Chudukatil</td>\n",
       "      <td>Sales Representative</td>\n",
       "      <td>2012-05-30</td>\n",
       "      <td>France</td>\n",
       "      <td>2.396540e+06</td>\n",
       "      <td>3.121616e+06</td>\n",
       "    </tr>\n",
       "  </tbody>\n",
       "</table>\n",
       "</div>"
      ],
      "text/plain": [
       "    BusinessEntityID FirstName           LastName  \\\n",
       "0                274   Stephen              Jiang   \n",
       "1                275   Michael             Blythe   \n",
       "2                276     Linda           Mitchell   \n",
       "3                277   Jillian             Carson   \n",
       "4                278   Garrett             Vargas   \n",
       "5                279      Tsvi             Reiter   \n",
       "6                280    Pamela       Ansman-Wolfe   \n",
       "7                281       Shu                Ito   \n",
       "8                282      José            Saraiva   \n",
       "9                283     David           Campbell   \n",
       "10               284      Tete        Mensa-Annan   \n",
       "11               285      Syed              Abbas   \n",
       "12               286      Lynn           Tsoflias   \n",
       "13               287       Amy            Alberts   \n",
       "14               288    Rachel             Valdez   \n",
       "15               289       Jae                Pak   \n",
       "16               290    Ranjit  Varkey Chudukatil   \n",
       "\n",
       "                        JobTitle    HireDate   TerritoryName  SalesLastYear  \\\n",
       "0   North American Sales Manager  2011-01-04            None   0.000000e+00   \n",
       "1           Sales Representative  2011-05-31       Northeast   1.750406e+06   \n",
       "2           Sales Representative  2011-05-31       Southwest   1.439156e+06   \n",
       "3           Sales Representative  2011-05-31         Central   1.997186e+06   \n",
       "4           Sales Representative  2011-05-31          Canada   1.620277e+06   \n",
       "5           Sales Representative  2011-05-31       Southeast   1.849641e+06   \n",
       "6           Sales Representative  2011-05-31       Northwest   1.927059e+06   \n",
       "7           Sales Representative  2011-05-31       Southwest   2.073506e+06   \n",
       "8           Sales Representative  2011-05-31          Canada   2.038235e+06   \n",
       "9           Sales Representative  2011-05-31       Northwest   1.371635e+06   \n",
       "10          Sales Representative  2012-09-30       Northwest   0.000000e+00   \n",
       "11         Pacific Sales Manager  2013-03-14            None   0.000000e+00   \n",
       "12          Sales Representative  2013-05-30       Australia   2.278549e+06   \n",
       "13        European Sales Manager  2012-04-16            None   0.000000e+00   \n",
       "14          Sales Representative  2013-05-30         Germany   1.307950e+06   \n",
       "15          Sales Representative  2012-05-30  United Kingdom   1.635823e+06   \n",
       "16          Sales Representative  2012-05-30          France   2.396540e+06   \n",
       "\n",
       "        SalesYTD  \n",
       "0   5.596976e+05  \n",
       "1   3.763178e+06  \n",
       "2   4.251369e+06  \n",
       "3   3.189418e+06  \n",
       "4   1.453719e+06  \n",
       "5   2.315186e+06  \n",
       "6   1.352577e+06  \n",
       "7   2.458536e+06  \n",
       "8   2.604541e+06  \n",
       "9   1.573013e+06  \n",
       "10  1.576562e+06  \n",
       "11  1.725245e+05  \n",
       "12  1.421811e+06  \n",
       "13  5.199059e+05  \n",
       "14  1.827067e+06  \n",
       "15  4.116871e+06  \n",
       "16  3.121616e+06  "
      ]
     },
     "execution_count": 394,
     "metadata": {},
     "output_type": "execute_result"
    }
   ],
   "source": [
    "# I use \"LEFT JOIN\" for the \"Sales.SalesTerritory\" to ensures all salespersons (even those without a territory) are included.\n",
    "salesperson_information = \"\"\"\n",
    "SELECT \n",
    "Sales.SalesPerson.BusinessEntityID,\n",
    "Person.Person.FirstName,\n",
    "Person.Person.LastName,\n",
    "HumanResources.Employee.JobTitle, \n",
    "HumanResources.Employee.HireDate, \n",
    "Sales.SalesTerritory.Name AS TerritoryName,\n",
    "Sales.SalesPerson.SalesLastYear,\n",
    "Sales.SalesPerson.SalesYTD \n",
    "FROM Sales.SalesPerson\n",
    "INNER JOIN Person.Person \n",
    "ON Sales.SalesPerson.BusinessEntityID = Person.Person.BusinessEntityID \n",
    "INNER JOIN HumanResources.Employee\n",
    "ON Person.Person.BusinessEntityID = HumanResources.Employee.BusinessEntityID\n",
    "LEFT JOIN Sales.SalesTerritory \n",
    "ON Sales.SalesPerson.TerritoryID = Sales.SalesTerritory.TerritoryID\n",
    "\"\"\"\n",
    "\n",
    "df_salesperson_information = pd.read_sql(sql=salesperson_information, con=connection)\n",
    "df_salesperson_information"
   ]
  },
  {
   "cell_type": "markdown",
   "metadata": {},
   "source": [
    "The table above shows 17 salespersons, including 3 Sales Managers and 14 Sales Representatives, active across North America, Pacific, and Europe. \n",
    "\n",
    "All were hired between 2011 and 2013. \n",
    "\n",
    "There are 4 salespersons with 0 sales in the previous year!"
   ]
  },
  {
   "cell_type": "code",
   "execution_count": 396,
   "metadata": {},
   "outputs": [
    {
     "name": "stdout",
     "output_type": "stream",
     "text": [
      "Salespersons with no sales last year:\n"
     ]
    },
    {
     "data": {
      "text/html": [
       "<div>\n",
       "<style scoped>\n",
       "    .dataframe tbody tr th:only-of-type {\n",
       "        vertical-align: middle;\n",
       "    }\n",
       "\n",
       "    .dataframe tbody tr th {\n",
       "        vertical-align: top;\n",
       "    }\n",
       "\n",
       "    .dataframe thead th {\n",
       "        text-align: right;\n",
       "    }\n",
       "</style>\n",
       "<table border=\"1\" class=\"dataframe\">\n",
       "  <thead>\n",
       "    <tr style=\"text-align: right;\">\n",
       "      <th></th>\n",
       "      <th>BusinessEntityID</th>\n",
       "      <th>FirstName</th>\n",
       "      <th>LastName</th>\n",
       "      <th>JobTitle</th>\n",
       "      <th>HireDate</th>\n",
       "      <th>TerritoryName</th>\n",
       "      <th>SalesLastYear</th>\n",
       "      <th>SalesYTD</th>\n",
       "    </tr>\n",
       "  </thead>\n",
       "  <tbody>\n",
       "    <tr>\n",
       "      <th>0</th>\n",
       "      <td>274</td>\n",
       "      <td>Stephen</td>\n",
       "      <td>Jiang</td>\n",
       "      <td>North American Sales Manager</td>\n",
       "      <td>2011-01-04</td>\n",
       "      <td>None</td>\n",
       "      <td>0.0</td>\n",
       "      <td>5.596976e+05</td>\n",
       "    </tr>\n",
       "    <tr>\n",
       "      <th>10</th>\n",
       "      <td>284</td>\n",
       "      <td>Tete</td>\n",
       "      <td>Mensa-Annan</td>\n",
       "      <td>Sales Representative</td>\n",
       "      <td>2012-09-30</td>\n",
       "      <td>Northwest</td>\n",
       "      <td>0.0</td>\n",
       "      <td>1.576562e+06</td>\n",
       "    </tr>\n",
       "    <tr>\n",
       "      <th>11</th>\n",
       "      <td>285</td>\n",
       "      <td>Syed</td>\n",
       "      <td>Abbas</td>\n",
       "      <td>Pacific Sales Manager</td>\n",
       "      <td>2013-03-14</td>\n",
       "      <td>None</td>\n",
       "      <td>0.0</td>\n",
       "      <td>1.725245e+05</td>\n",
       "    </tr>\n",
       "    <tr>\n",
       "      <th>13</th>\n",
       "      <td>287</td>\n",
       "      <td>Amy</td>\n",
       "      <td>Alberts</td>\n",
       "      <td>European Sales Manager</td>\n",
       "      <td>2012-04-16</td>\n",
       "      <td>None</td>\n",
       "      <td>0.0</td>\n",
       "      <td>5.199059e+05</td>\n",
       "    </tr>\n",
       "  </tbody>\n",
       "</table>\n",
       "</div>"
      ],
      "text/plain": [
       "    BusinessEntityID FirstName     LastName                      JobTitle  \\\n",
       "0                274   Stephen        Jiang  North American Sales Manager   \n",
       "10               284      Tete  Mensa-Annan          Sales Representative   \n",
       "11               285      Syed        Abbas         Pacific Sales Manager   \n",
       "13               287       Amy      Alberts        European Sales Manager   \n",
       "\n",
       "      HireDate TerritoryName  SalesLastYear      SalesYTD  \n",
       "0   2011-01-04          None            0.0  5.596976e+05  \n",
       "10  2012-09-30     Northwest            0.0  1.576562e+06  \n",
       "11  2013-03-14          None            0.0  1.725245e+05  \n",
       "13  2012-04-16          None            0.0  5.199059e+05  "
      ]
     },
     "execution_count": 396,
     "metadata": {},
     "output_type": "execute_result"
    }
   ],
   "source": [
    "df_zero_sales = df_salesperson_information[df_salesperson_information['SalesLastYear'] == 0]\n",
    "print(\"Salespersons with no sales last year:\")\n",
    "df_zero_sales"
   ]
  },
  {
   "cell_type": "markdown",
   "metadata": {},
   "source": [
    "I summarized the information of the 4 salespersons with zero sales last year in the table above. Among them, 3 are Sales Managers and 1 is a Sales Representative. I included the HireDate column to check if they were recently hired, but none of them are new salespersons. "
   ]
  },
  {
   "cell_type": "markdown",
   "metadata": {},
   "source": [
    "### Fråga 2. Gör en statistisk analys av valfri del av datan. Den skall innehålla åtminstone ett konfidensintervall. Hur tolkar du resultaten?\n"
   ]
  },
  {
   "cell_type": "markdown",
   "metadata": {},
   "source": [
    "To begin, I would like to compare the sales performance of each salesperson over the past two years."
   ]
  },
  {
   "cell_type": "code",
   "execution_count": 397,
   "metadata": {},
   "outputs": [
    {
     "data": {
      "application/vnd.plotly.v1+json": {
       "config": {
        "plotlyServerURL": "https://plot.ly"
       },
       "data": [
        {
         "alignmentgroup": "True",
         "hovertemplate": "Year=Sales_LastYear<br>Salesperson ID=%{x}<br>Sales Amount=%{text}<extra></extra>",
         "legendgroup": "Sales_LastYear",
         "marker": {
          "color": "#636efa",
          "pattern": {
           "shape": ""
          }
         },
         "name": "Sales_LastYear",
         "offsetgroup": "Sales_LastYear",
         "orientation": "v",
         "showlegend": true,
         "text": [
          0,
          1750406.4785,
          1439156.0291,
          1997186.2037,
          1620276.8966,
          1849640.9418,
          1927059.178,
          2073505.9999,
          2038234.6549,
          1371635.3158,
          0,
          0,
          2278548.9776,
          0,
          1307949.7917,
          1635823.3967,
          2396539.7601
         ],
         "textposition": "auto",
         "type": "bar",
         "x": [
          274,
          275,
          276,
          277,
          278,
          279,
          280,
          281,
          282,
          283,
          284,
          285,
          286,
          287,
          288,
          289,
          290
         ],
         "xaxis": "x",
         "y": [
          0,
          1750406.4785,
          1439156.0291,
          1997186.2037,
          1620276.8966,
          1849640.9418,
          1927059.178,
          2073505.9999,
          2038234.6549,
          1371635.3158,
          0,
          0,
          2278548.9776,
          0,
          1307949.7917,
          1635823.3967,
          2396539.7601
         ],
         "yaxis": "y"
        },
        {
         "alignmentgroup": "True",
         "hovertemplate": "Year=Sales_CurrentYear<br>Salesperson ID=%{x}<br>Sales Amount=%{text}<extra></extra>",
         "legendgroup": "Sales_CurrentYear",
         "marker": {
          "color": "#EF553B",
          "pattern": {
           "shape": ""
          }
         },
         "name": "Sales_CurrentYear",
         "offsetgroup": "Sales_CurrentYear",
         "orientation": "v",
         "showlegend": true,
         "text": [
          559697.5639,
          3763178.1787,
          4251368.5497,
          3189418.3662,
          1453719.4653,
          2315185.611,
          1352577.1325,
          2458535.6169,
          2604540.7172,
          1573012.9383,
          1576562.1966,
          172524.4512,
          1421810.9242,
          519905.932,
          1827066.7118,
          4116871.2277,
          3121616.3202
         ],
         "textposition": "auto",
         "type": "bar",
         "x": [
          274,
          275,
          276,
          277,
          278,
          279,
          280,
          281,
          282,
          283,
          284,
          285,
          286,
          287,
          288,
          289,
          290
         ],
         "xaxis": "x",
         "y": [
          559697.5639,
          3763178.1787,
          4251368.5497,
          3189418.3662,
          1453719.4653,
          2315185.611,
          1352577.1325,
          2458535.6169,
          2604540.7172,
          1573012.9383,
          1576562.1966,
          172524.4512,
          1421810.9242,
          519905.932,
          1827066.7118,
          4116871.2277,
          3121616.3202
         ],
         "yaxis": "y"
        }
       ],
       "layout": {
        "barmode": "group",
        "legend": {
         "title": {
          "text": "Year"
         },
         "tracegroupgap": 0
        },
        "template": {
         "data": {
          "bar": [
           {
            "error_x": {
             "color": "#2a3f5f"
            },
            "error_y": {
             "color": "#2a3f5f"
            },
            "marker": {
             "line": {
              "color": "#E5ECF6",
              "width": 0.5
             },
             "pattern": {
              "fillmode": "overlay",
              "size": 10,
              "solidity": 0.2
             }
            },
            "type": "bar"
           }
          ],
          "barpolar": [
           {
            "marker": {
             "line": {
              "color": "#E5ECF6",
              "width": 0.5
             },
             "pattern": {
              "fillmode": "overlay",
              "size": 10,
              "solidity": 0.2
             }
            },
            "type": "barpolar"
           }
          ],
          "carpet": [
           {
            "aaxis": {
             "endlinecolor": "#2a3f5f",
             "gridcolor": "white",
             "linecolor": "white",
             "minorgridcolor": "white",
             "startlinecolor": "#2a3f5f"
            },
            "baxis": {
             "endlinecolor": "#2a3f5f",
             "gridcolor": "white",
             "linecolor": "white",
             "minorgridcolor": "white",
             "startlinecolor": "#2a3f5f"
            },
            "type": "carpet"
           }
          ],
          "choropleth": [
           {
            "colorbar": {
             "outlinewidth": 0,
             "ticks": ""
            },
            "type": "choropleth"
           }
          ],
          "contour": [
           {
            "colorbar": {
             "outlinewidth": 0,
             "ticks": ""
            },
            "colorscale": [
             [
              0,
              "#0d0887"
             ],
             [
              0.1111111111111111,
              "#46039f"
             ],
             [
              0.2222222222222222,
              "#7201a8"
             ],
             [
              0.3333333333333333,
              "#9c179e"
             ],
             [
              0.4444444444444444,
              "#bd3786"
             ],
             [
              0.5555555555555556,
              "#d8576b"
             ],
             [
              0.6666666666666666,
              "#ed7953"
             ],
             [
              0.7777777777777778,
              "#fb9f3a"
             ],
             [
              0.8888888888888888,
              "#fdca26"
             ],
             [
              1,
              "#f0f921"
             ]
            ],
            "type": "contour"
           }
          ],
          "contourcarpet": [
           {
            "colorbar": {
             "outlinewidth": 0,
             "ticks": ""
            },
            "type": "contourcarpet"
           }
          ],
          "heatmap": [
           {
            "colorbar": {
             "outlinewidth": 0,
             "ticks": ""
            },
            "colorscale": [
             [
              0,
              "#0d0887"
             ],
             [
              0.1111111111111111,
              "#46039f"
             ],
             [
              0.2222222222222222,
              "#7201a8"
             ],
             [
              0.3333333333333333,
              "#9c179e"
             ],
             [
              0.4444444444444444,
              "#bd3786"
             ],
             [
              0.5555555555555556,
              "#d8576b"
             ],
             [
              0.6666666666666666,
              "#ed7953"
             ],
             [
              0.7777777777777778,
              "#fb9f3a"
             ],
             [
              0.8888888888888888,
              "#fdca26"
             ],
             [
              1,
              "#f0f921"
             ]
            ],
            "type": "heatmap"
           }
          ],
          "heatmapgl": [
           {
            "colorbar": {
             "outlinewidth": 0,
             "ticks": ""
            },
            "colorscale": [
             [
              0,
              "#0d0887"
             ],
             [
              0.1111111111111111,
              "#46039f"
             ],
             [
              0.2222222222222222,
              "#7201a8"
             ],
             [
              0.3333333333333333,
              "#9c179e"
             ],
             [
              0.4444444444444444,
              "#bd3786"
             ],
             [
              0.5555555555555556,
              "#d8576b"
             ],
             [
              0.6666666666666666,
              "#ed7953"
             ],
             [
              0.7777777777777778,
              "#fb9f3a"
             ],
             [
              0.8888888888888888,
              "#fdca26"
             ],
             [
              1,
              "#f0f921"
             ]
            ],
            "type": "heatmapgl"
           }
          ],
          "histogram": [
           {
            "marker": {
             "pattern": {
              "fillmode": "overlay",
              "size": 10,
              "solidity": 0.2
             }
            },
            "type": "histogram"
           }
          ],
          "histogram2d": [
           {
            "colorbar": {
             "outlinewidth": 0,
             "ticks": ""
            },
            "colorscale": [
             [
              0,
              "#0d0887"
             ],
             [
              0.1111111111111111,
              "#46039f"
             ],
             [
              0.2222222222222222,
              "#7201a8"
             ],
             [
              0.3333333333333333,
              "#9c179e"
             ],
             [
              0.4444444444444444,
              "#bd3786"
             ],
             [
              0.5555555555555556,
              "#d8576b"
             ],
             [
              0.6666666666666666,
              "#ed7953"
             ],
             [
              0.7777777777777778,
              "#fb9f3a"
             ],
             [
              0.8888888888888888,
              "#fdca26"
             ],
             [
              1,
              "#f0f921"
             ]
            ],
            "type": "histogram2d"
           }
          ],
          "histogram2dcontour": [
           {
            "colorbar": {
             "outlinewidth": 0,
             "ticks": ""
            },
            "colorscale": [
             [
              0,
              "#0d0887"
             ],
             [
              0.1111111111111111,
              "#46039f"
             ],
             [
              0.2222222222222222,
              "#7201a8"
             ],
             [
              0.3333333333333333,
              "#9c179e"
             ],
             [
              0.4444444444444444,
              "#bd3786"
             ],
             [
              0.5555555555555556,
              "#d8576b"
             ],
             [
              0.6666666666666666,
              "#ed7953"
             ],
             [
              0.7777777777777778,
              "#fb9f3a"
             ],
             [
              0.8888888888888888,
              "#fdca26"
             ],
             [
              1,
              "#f0f921"
             ]
            ],
            "type": "histogram2dcontour"
           }
          ],
          "mesh3d": [
           {
            "colorbar": {
             "outlinewidth": 0,
             "ticks": ""
            },
            "type": "mesh3d"
           }
          ],
          "parcoords": [
           {
            "line": {
             "colorbar": {
              "outlinewidth": 0,
              "ticks": ""
             }
            },
            "type": "parcoords"
           }
          ],
          "pie": [
           {
            "automargin": true,
            "type": "pie"
           }
          ],
          "scatter": [
           {
            "fillpattern": {
             "fillmode": "overlay",
             "size": 10,
             "solidity": 0.2
            },
            "type": "scatter"
           }
          ],
          "scatter3d": [
           {
            "line": {
             "colorbar": {
              "outlinewidth": 0,
              "ticks": ""
             }
            },
            "marker": {
             "colorbar": {
              "outlinewidth": 0,
              "ticks": ""
             }
            },
            "type": "scatter3d"
           }
          ],
          "scattercarpet": [
           {
            "marker": {
             "colorbar": {
              "outlinewidth": 0,
              "ticks": ""
             }
            },
            "type": "scattercarpet"
           }
          ],
          "scattergeo": [
           {
            "marker": {
             "colorbar": {
              "outlinewidth": 0,
              "ticks": ""
             }
            },
            "type": "scattergeo"
           }
          ],
          "scattergl": [
           {
            "marker": {
             "colorbar": {
              "outlinewidth": 0,
              "ticks": ""
             }
            },
            "type": "scattergl"
           }
          ],
          "scattermapbox": [
           {
            "marker": {
             "colorbar": {
              "outlinewidth": 0,
              "ticks": ""
             }
            },
            "type": "scattermapbox"
           }
          ],
          "scatterpolar": [
           {
            "marker": {
             "colorbar": {
              "outlinewidth": 0,
              "ticks": ""
             }
            },
            "type": "scatterpolar"
           }
          ],
          "scatterpolargl": [
           {
            "marker": {
             "colorbar": {
              "outlinewidth": 0,
              "ticks": ""
             }
            },
            "type": "scatterpolargl"
           }
          ],
          "scatterternary": [
           {
            "marker": {
             "colorbar": {
              "outlinewidth": 0,
              "ticks": ""
             }
            },
            "type": "scatterternary"
           }
          ],
          "surface": [
           {
            "colorbar": {
             "outlinewidth": 0,
             "ticks": ""
            },
            "colorscale": [
             [
              0,
              "#0d0887"
             ],
             [
              0.1111111111111111,
              "#46039f"
             ],
             [
              0.2222222222222222,
              "#7201a8"
             ],
             [
              0.3333333333333333,
              "#9c179e"
             ],
             [
              0.4444444444444444,
              "#bd3786"
             ],
             [
              0.5555555555555556,
              "#d8576b"
             ],
             [
              0.6666666666666666,
              "#ed7953"
             ],
             [
              0.7777777777777778,
              "#fb9f3a"
             ],
             [
              0.8888888888888888,
              "#fdca26"
             ],
             [
              1,
              "#f0f921"
             ]
            ],
            "type": "surface"
           }
          ],
          "table": [
           {
            "cells": {
             "fill": {
              "color": "#EBF0F8"
             },
             "line": {
              "color": "white"
             }
            },
            "header": {
             "fill": {
              "color": "#C8D4E3"
             },
             "line": {
              "color": "white"
             }
            },
            "type": "table"
           }
          ]
         },
         "layout": {
          "annotationdefaults": {
           "arrowcolor": "#2a3f5f",
           "arrowhead": 0,
           "arrowwidth": 1
          },
          "autotypenumbers": "strict",
          "coloraxis": {
           "colorbar": {
            "outlinewidth": 0,
            "ticks": ""
           }
          },
          "colorscale": {
           "diverging": [
            [
             0,
             "#8e0152"
            ],
            [
             0.1,
             "#c51b7d"
            ],
            [
             0.2,
             "#de77ae"
            ],
            [
             0.3,
             "#f1b6da"
            ],
            [
             0.4,
             "#fde0ef"
            ],
            [
             0.5,
             "#f7f7f7"
            ],
            [
             0.6,
             "#e6f5d0"
            ],
            [
             0.7,
             "#b8e186"
            ],
            [
             0.8,
             "#7fbc41"
            ],
            [
             0.9,
             "#4d9221"
            ],
            [
             1,
             "#276419"
            ]
           ],
           "sequential": [
            [
             0,
             "#0d0887"
            ],
            [
             0.1111111111111111,
             "#46039f"
            ],
            [
             0.2222222222222222,
             "#7201a8"
            ],
            [
             0.3333333333333333,
             "#9c179e"
            ],
            [
             0.4444444444444444,
             "#bd3786"
            ],
            [
             0.5555555555555556,
             "#d8576b"
            ],
            [
             0.6666666666666666,
             "#ed7953"
            ],
            [
             0.7777777777777778,
             "#fb9f3a"
            ],
            [
             0.8888888888888888,
             "#fdca26"
            ],
            [
             1,
             "#f0f921"
            ]
           ],
           "sequentialminus": [
            [
             0,
             "#0d0887"
            ],
            [
             0.1111111111111111,
             "#46039f"
            ],
            [
             0.2222222222222222,
             "#7201a8"
            ],
            [
             0.3333333333333333,
             "#9c179e"
            ],
            [
             0.4444444444444444,
             "#bd3786"
            ],
            [
             0.5555555555555556,
             "#d8576b"
            ],
            [
             0.6666666666666666,
             "#ed7953"
            ],
            [
             0.7777777777777778,
             "#fb9f3a"
            ],
            [
             0.8888888888888888,
             "#fdca26"
            ],
            [
             1,
             "#f0f921"
            ]
           ]
          },
          "colorway": [
           "#636efa",
           "#EF553B",
           "#00cc96",
           "#ab63fa",
           "#FFA15A",
           "#19d3f3",
           "#FF6692",
           "#B6E880",
           "#FF97FF",
           "#FECB52"
          ],
          "font": {
           "color": "#2a3f5f"
          },
          "geo": {
           "bgcolor": "white",
           "lakecolor": "white",
           "landcolor": "#E5ECF6",
           "showlakes": true,
           "showland": true,
           "subunitcolor": "white"
          },
          "hoverlabel": {
           "align": "left"
          },
          "hovermode": "closest",
          "mapbox": {
           "style": "light"
          },
          "paper_bgcolor": "white",
          "plot_bgcolor": "#E5ECF6",
          "polar": {
           "angularaxis": {
            "gridcolor": "white",
            "linecolor": "white",
            "ticks": ""
           },
           "bgcolor": "#E5ECF6",
           "radialaxis": {
            "gridcolor": "white",
            "linecolor": "white",
            "ticks": ""
           }
          },
          "scene": {
           "xaxis": {
            "backgroundcolor": "#E5ECF6",
            "gridcolor": "white",
            "gridwidth": 2,
            "linecolor": "white",
            "showbackground": true,
            "ticks": "",
            "zerolinecolor": "white"
           },
           "yaxis": {
            "backgroundcolor": "#E5ECF6",
            "gridcolor": "white",
            "gridwidth": 2,
            "linecolor": "white",
            "showbackground": true,
            "ticks": "",
            "zerolinecolor": "white"
           },
           "zaxis": {
            "backgroundcolor": "#E5ECF6",
            "gridcolor": "white",
            "gridwidth": 2,
            "linecolor": "white",
            "showbackground": true,
            "ticks": "",
            "zerolinecolor": "white"
           }
          },
          "shapedefaults": {
           "line": {
            "color": "#2a3f5f"
           }
          },
          "ternary": {
           "aaxis": {
            "gridcolor": "white",
            "linecolor": "white",
            "ticks": ""
           },
           "baxis": {
            "gridcolor": "white",
            "linecolor": "white",
            "ticks": ""
           },
           "bgcolor": "#E5ECF6",
           "caxis": {
            "gridcolor": "white",
            "linecolor": "white",
            "ticks": ""
           }
          },
          "title": {
           "x": 0.05
          },
          "xaxis": {
           "automargin": true,
           "gridcolor": "white",
           "linecolor": "white",
           "ticks": "",
           "title": {
            "standoff": 15
           },
           "zerolinecolor": "white",
           "zerolinewidth": 2
          },
          "yaxis": {
           "automargin": true,
           "gridcolor": "white",
           "linecolor": "white",
           "ticks": "",
           "title": {
            "standoff": 15
           },
           "zerolinecolor": "white",
           "zerolinewidth": 2
          }
         }
        },
        "title": {
         "text": "Salesperson Performance Comparison:"
        },
        "xaxis": {
         "anchor": "y",
         "domain": [
          0,
          1
         ],
         "tickangle": 45,
         "tickmode": "linear",
         "title": {
          "text": "Salesperson ID"
         }
        },
        "yaxis": {
         "anchor": "x",
         "domain": [
          0,
          1
         ],
         "title": {
          "text": "Sales Amount"
         }
        }
       }
      }
     },
     "metadata": {},
     "output_type": "display_data"
    }
   ],
   "source": [
    "twoyears_sales = \"\"\"\n",
    "SELECT\n",
    "Sales.SalesPerson.BusinessEntityID,\n",
    "Sales.SalesPerson.SalesLastYear AS Sales_LastYear,\n",
    "Sales.SalesPerson.SalesYTD AS Sales_CurrentYear\n",
    "FROM Sales.SalesPerson \n",
    "\"\"\"\n",
    "\n",
    "\n",
    "df_twoyears_sales = pd.read_sql(sql=twoyears_sales, con=connection)\n",
    "\n",
    "df_melted = pd.melt(\n",
    "    df_twoyears_sales,\n",
    "    id_vars=['BusinessEntityID'], \n",
    "    value_vars=['Sales_LastYear', 'Sales_CurrentYear'],\n",
    "    var_name='Year',\n",
    "    value_name='Sales'\n",
    ")\n",
    "\n",
    "\n",
    "fig = px.bar(\n",
    "    df_melted,\n",
    "    x='BusinessEntityID',\n",
    "    y='Sales',\n",
    "    color='Year',\n",
    "    barmode='group',  \n",
    "    text='Sales',\n",
    "    title='Salesperson Performance Comparison:',\n",
    "    labels={'BusinessEntityID': 'Salesperson ID', 'Sales': 'Sales Amount'},\n",
    ")\n",
    "\n",
    "fig.update_layout(\n",
    "    xaxis=dict(\n",
    "        tickmode='linear',  # To be sure that ticks are evenly spaced\n",
    "        tickangle=45   # Rotates tick labels by 45 degrees  \n",
    "    )\n",
    ")\n",
    "\n",
    "fig.show()"
   ]
  },
  {
   "cell_type": "markdown",
   "metadata": {},
   "source": [
    "The bar chart comparison of sales performance shows that 14 out of 17 salespersons had better results in the current year."
   ]
  },
  {
   "cell_type": "markdown",
   "metadata": {},
   "source": [
    "The following table shows the total sales across all salespersons for the last year and the current Year-to-Date (including the 4 salespersons with no sales last year):"
   ]
  },
  {
   "cell_type": "code",
   "execution_count": 398,
   "metadata": {},
   "outputs": [
    {
     "name": "stdout",
     "output_type": "stream",
     "text": [
      "Total sales (including the 4 salespersons with no sales last year):\n"
     ]
    },
    {
     "data": {
      "text/html": [
       "<div>\n",
       "<style scoped>\n",
       "    .dataframe tbody tr th:only-of-type {\n",
       "        vertical-align: middle;\n",
       "    }\n",
       "\n",
       "    .dataframe tbody tr th {\n",
       "        vertical-align: top;\n",
       "    }\n",
       "\n",
       "    .dataframe thead th {\n",
       "        text-align: right;\n",
       "    }\n",
       "</style>\n",
       "<table border=\"1\" class=\"dataframe\">\n",
       "  <thead>\n",
       "    <tr style=\"text-align: right;\">\n",
       "      <th></th>\n",
       "      <th>TotalSalesLastYear</th>\n",
       "      <th>TotalSalesYTD</th>\n",
       "    </tr>\n",
       "  </thead>\n",
       "  <tbody>\n",
       "    <tr>\n",
       "      <th>0</th>\n",
       "      <td>2.368596e+07</td>\n",
       "      <td>3.627759e+07</td>\n",
       "    </tr>\n",
       "  </tbody>\n",
       "</table>\n",
       "</div>"
      ],
      "text/plain": [
       "   TotalSalesLastYear  TotalSalesYTD\n",
       "0        2.368596e+07   3.627759e+07"
      ]
     },
     "execution_count": 398,
     "metadata": {},
     "output_type": "execute_result"
    }
   ],
   "source": [
    "total_sales = \"\"\"\n",
    "SELECT \n",
    "SUM(SalesLastYear) AS TotalSalesLastYear,\n",
    "SUM(SalesYTD) AS TotalSalesYTD\n",
    "FROM Sales.SalesPerson\n",
    "\"\"\"\n",
    "\n",
    "df_total_sales = pd.read_sql(sql=total_sales, con=connection)\n",
    "print('Total sales (including the 4 salespersons with no sales last year):')\n",
    "df_total_sales"
   ]
  },
  {
   "cell_type": "markdown",
   "metadata": {},
   "source": [
    "The following table shows the total sales across all salespersons for the last year and the current Year-to-Date (excluding the 4 salespersons with no sales last year):"
   ]
  },
  {
   "cell_type": "code",
   "execution_count": 399,
   "metadata": {},
   "outputs": [
    {
     "name": "stdout",
     "output_type": "stream",
     "text": [
      "Total sales (excluding the 4 salespersons with no sales last year):\n"
     ]
    },
    {
     "data": {
      "text/html": [
       "<div>\n",
       "<style scoped>\n",
       "    .dataframe tbody tr th:only-of-type {\n",
       "        vertical-align: middle;\n",
       "    }\n",
       "\n",
       "    .dataframe tbody tr th {\n",
       "        vertical-align: top;\n",
       "    }\n",
       "\n",
       "    .dataframe thead th {\n",
       "        text-align: right;\n",
       "    }\n",
       "</style>\n",
       "<table border=\"1\" class=\"dataframe\">\n",
       "  <thead>\n",
       "    <tr style=\"text-align: right;\">\n",
       "      <th></th>\n",
       "      <th>TotalSalesLastYear</th>\n",
       "      <th>TotalSalesYTD</th>\n",
       "    </tr>\n",
       "  </thead>\n",
       "  <tbody>\n",
       "    <tr>\n",
       "      <th>0</th>\n",
       "      <td>2.368596e+07</td>\n",
       "      <td>3.344890e+07</td>\n",
       "    </tr>\n",
       "  </tbody>\n",
       "</table>\n",
       "</div>"
      ],
      "text/plain": [
       "   TotalSalesLastYear  TotalSalesYTD\n",
       "0        2.368596e+07   3.344890e+07"
      ]
     },
     "execution_count": 399,
     "metadata": {},
     "output_type": "execute_result"
    }
   ],
   "source": [
    "total_sales_filtered = \"\"\"\n",
    "SELECT \n",
    "SUM(SalesLastYear) AS TotalSalesLastYear,\n",
    "SUM(SalesYTD) AS TotalSalesYTD\n",
    "FROM Sales.SalesPerson\n",
    "WHERE SalesLastYear > 0\n",
    "\"\"\"\n",
    "\n",
    "df_total_sales_filtered = pd.read_sql(sql=total_sales_filtered, con=connection)\n",
    "print('Total sales (excluding the 4 salespersons with no sales last year):')\n",
    "df_total_sales_filtered"
   ]
  },
  {
   "cell_type": "markdown",
   "metadata": {},
   "source": [
    "The following pie chart illustrates the sales performance of each salesperson (contribution) for the previous year:"
   ]
  },
  {
   "cell_type": "code",
   "execution_count": 400,
   "metadata": {},
   "outputs": [
    {
     "data": {
      "application/vnd.plotly.v1+json": {
       "config": {
        "plotlyServerURL": "https://plot.ly"
       },
       "data": [
        {
         "domain": {
          "x": [
           0,
           1
          ],
          "y": [
           0,
           1
          ]
         },
         "hovertemplate": "BusinessEntityID=%{label}<br>SalesLastYear=%{value}<extra></extra>",
         "labels": [
          274,
          275,
          276,
          277,
          278,
          279,
          280,
          281,
          282,
          283,
          284,
          285,
          286,
          287,
          288,
          289,
          290
         ],
         "legendgroup": "",
         "name": "",
         "showlegend": true,
         "type": "pie",
         "values": [
          0,
          1750406.4785,
          1439156.0291,
          1997186.2037,
          1620276.8966,
          1849640.9418,
          1927059.178,
          2073505.9999,
          2038234.6549,
          1371635.3158,
          0,
          0,
          2278548.9776,
          0,
          1307949.7917,
          1635823.3967,
          2396539.7601
         ]
        }
       ],
       "layout": {
        "legend": {
         "tracegroupgap": 0
        },
        "template": {
         "data": {
          "bar": [
           {
            "error_x": {
             "color": "#2a3f5f"
            },
            "error_y": {
             "color": "#2a3f5f"
            },
            "marker": {
             "line": {
              "color": "#E5ECF6",
              "width": 0.5
             },
             "pattern": {
              "fillmode": "overlay",
              "size": 10,
              "solidity": 0.2
             }
            },
            "type": "bar"
           }
          ],
          "barpolar": [
           {
            "marker": {
             "line": {
              "color": "#E5ECF6",
              "width": 0.5
             },
             "pattern": {
              "fillmode": "overlay",
              "size": 10,
              "solidity": 0.2
             }
            },
            "type": "barpolar"
           }
          ],
          "carpet": [
           {
            "aaxis": {
             "endlinecolor": "#2a3f5f",
             "gridcolor": "white",
             "linecolor": "white",
             "minorgridcolor": "white",
             "startlinecolor": "#2a3f5f"
            },
            "baxis": {
             "endlinecolor": "#2a3f5f",
             "gridcolor": "white",
             "linecolor": "white",
             "minorgridcolor": "white",
             "startlinecolor": "#2a3f5f"
            },
            "type": "carpet"
           }
          ],
          "choropleth": [
           {
            "colorbar": {
             "outlinewidth": 0,
             "ticks": ""
            },
            "type": "choropleth"
           }
          ],
          "contour": [
           {
            "colorbar": {
             "outlinewidth": 0,
             "ticks": ""
            },
            "colorscale": [
             [
              0,
              "#0d0887"
             ],
             [
              0.1111111111111111,
              "#46039f"
             ],
             [
              0.2222222222222222,
              "#7201a8"
             ],
             [
              0.3333333333333333,
              "#9c179e"
             ],
             [
              0.4444444444444444,
              "#bd3786"
             ],
             [
              0.5555555555555556,
              "#d8576b"
             ],
             [
              0.6666666666666666,
              "#ed7953"
             ],
             [
              0.7777777777777778,
              "#fb9f3a"
             ],
             [
              0.8888888888888888,
              "#fdca26"
             ],
             [
              1,
              "#f0f921"
             ]
            ],
            "type": "contour"
           }
          ],
          "contourcarpet": [
           {
            "colorbar": {
             "outlinewidth": 0,
             "ticks": ""
            },
            "type": "contourcarpet"
           }
          ],
          "heatmap": [
           {
            "colorbar": {
             "outlinewidth": 0,
             "ticks": ""
            },
            "colorscale": [
             [
              0,
              "#0d0887"
             ],
             [
              0.1111111111111111,
              "#46039f"
             ],
             [
              0.2222222222222222,
              "#7201a8"
             ],
             [
              0.3333333333333333,
              "#9c179e"
             ],
             [
              0.4444444444444444,
              "#bd3786"
             ],
             [
              0.5555555555555556,
              "#d8576b"
             ],
             [
              0.6666666666666666,
              "#ed7953"
             ],
             [
              0.7777777777777778,
              "#fb9f3a"
             ],
             [
              0.8888888888888888,
              "#fdca26"
             ],
             [
              1,
              "#f0f921"
             ]
            ],
            "type": "heatmap"
           }
          ],
          "heatmapgl": [
           {
            "colorbar": {
             "outlinewidth": 0,
             "ticks": ""
            },
            "colorscale": [
             [
              0,
              "#0d0887"
             ],
             [
              0.1111111111111111,
              "#46039f"
             ],
             [
              0.2222222222222222,
              "#7201a8"
             ],
             [
              0.3333333333333333,
              "#9c179e"
             ],
             [
              0.4444444444444444,
              "#bd3786"
             ],
             [
              0.5555555555555556,
              "#d8576b"
             ],
             [
              0.6666666666666666,
              "#ed7953"
             ],
             [
              0.7777777777777778,
              "#fb9f3a"
             ],
             [
              0.8888888888888888,
              "#fdca26"
             ],
             [
              1,
              "#f0f921"
             ]
            ],
            "type": "heatmapgl"
           }
          ],
          "histogram": [
           {
            "marker": {
             "pattern": {
              "fillmode": "overlay",
              "size": 10,
              "solidity": 0.2
             }
            },
            "type": "histogram"
           }
          ],
          "histogram2d": [
           {
            "colorbar": {
             "outlinewidth": 0,
             "ticks": ""
            },
            "colorscale": [
             [
              0,
              "#0d0887"
             ],
             [
              0.1111111111111111,
              "#46039f"
             ],
             [
              0.2222222222222222,
              "#7201a8"
             ],
             [
              0.3333333333333333,
              "#9c179e"
             ],
             [
              0.4444444444444444,
              "#bd3786"
             ],
             [
              0.5555555555555556,
              "#d8576b"
             ],
             [
              0.6666666666666666,
              "#ed7953"
             ],
             [
              0.7777777777777778,
              "#fb9f3a"
             ],
             [
              0.8888888888888888,
              "#fdca26"
             ],
             [
              1,
              "#f0f921"
             ]
            ],
            "type": "histogram2d"
           }
          ],
          "histogram2dcontour": [
           {
            "colorbar": {
             "outlinewidth": 0,
             "ticks": ""
            },
            "colorscale": [
             [
              0,
              "#0d0887"
             ],
             [
              0.1111111111111111,
              "#46039f"
             ],
             [
              0.2222222222222222,
              "#7201a8"
             ],
             [
              0.3333333333333333,
              "#9c179e"
             ],
             [
              0.4444444444444444,
              "#bd3786"
             ],
             [
              0.5555555555555556,
              "#d8576b"
             ],
             [
              0.6666666666666666,
              "#ed7953"
             ],
             [
              0.7777777777777778,
              "#fb9f3a"
             ],
             [
              0.8888888888888888,
              "#fdca26"
             ],
             [
              1,
              "#f0f921"
             ]
            ],
            "type": "histogram2dcontour"
           }
          ],
          "mesh3d": [
           {
            "colorbar": {
             "outlinewidth": 0,
             "ticks": ""
            },
            "type": "mesh3d"
           }
          ],
          "parcoords": [
           {
            "line": {
             "colorbar": {
              "outlinewidth": 0,
              "ticks": ""
             }
            },
            "type": "parcoords"
           }
          ],
          "pie": [
           {
            "automargin": true,
            "type": "pie"
           }
          ],
          "scatter": [
           {
            "fillpattern": {
             "fillmode": "overlay",
             "size": 10,
             "solidity": 0.2
            },
            "type": "scatter"
           }
          ],
          "scatter3d": [
           {
            "line": {
             "colorbar": {
              "outlinewidth": 0,
              "ticks": ""
             }
            },
            "marker": {
             "colorbar": {
              "outlinewidth": 0,
              "ticks": ""
             }
            },
            "type": "scatter3d"
           }
          ],
          "scattercarpet": [
           {
            "marker": {
             "colorbar": {
              "outlinewidth": 0,
              "ticks": ""
             }
            },
            "type": "scattercarpet"
           }
          ],
          "scattergeo": [
           {
            "marker": {
             "colorbar": {
              "outlinewidth": 0,
              "ticks": ""
             }
            },
            "type": "scattergeo"
           }
          ],
          "scattergl": [
           {
            "marker": {
             "colorbar": {
              "outlinewidth": 0,
              "ticks": ""
             }
            },
            "type": "scattergl"
           }
          ],
          "scattermapbox": [
           {
            "marker": {
             "colorbar": {
              "outlinewidth": 0,
              "ticks": ""
             }
            },
            "type": "scattermapbox"
           }
          ],
          "scatterpolar": [
           {
            "marker": {
             "colorbar": {
              "outlinewidth": 0,
              "ticks": ""
             }
            },
            "type": "scatterpolar"
           }
          ],
          "scatterpolargl": [
           {
            "marker": {
             "colorbar": {
              "outlinewidth": 0,
              "ticks": ""
             }
            },
            "type": "scatterpolargl"
           }
          ],
          "scatterternary": [
           {
            "marker": {
             "colorbar": {
              "outlinewidth": 0,
              "ticks": ""
             }
            },
            "type": "scatterternary"
           }
          ],
          "surface": [
           {
            "colorbar": {
             "outlinewidth": 0,
             "ticks": ""
            },
            "colorscale": [
             [
              0,
              "#0d0887"
             ],
             [
              0.1111111111111111,
              "#46039f"
             ],
             [
              0.2222222222222222,
              "#7201a8"
             ],
             [
              0.3333333333333333,
              "#9c179e"
             ],
             [
              0.4444444444444444,
              "#bd3786"
             ],
             [
              0.5555555555555556,
              "#d8576b"
             ],
             [
              0.6666666666666666,
              "#ed7953"
             ],
             [
              0.7777777777777778,
              "#fb9f3a"
             ],
             [
              0.8888888888888888,
              "#fdca26"
             ],
             [
              1,
              "#f0f921"
             ]
            ],
            "type": "surface"
           }
          ],
          "table": [
           {
            "cells": {
             "fill": {
              "color": "#EBF0F8"
             },
             "line": {
              "color": "white"
             }
            },
            "header": {
             "fill": {
              "color": "#C8D4E3"
             },
             "line": {
              "color": "white"
             }
            },
            "type": "table"
           }
          ]
         },
         "layout": {
          "annotationdefaults": {
           "arrowcolor": "#2a3f5f",
           "arrowhead": 0,
           "arrowwidth": 1
          },
          "autotypenumbers": "strict",
          "coloraxis": {
           "colorbar": {
            "outlinewidth": 0,
            "ticks": ""
           }
          },
          "colorscale": {
           "diverging": [
            [
             0,
             "#8e0152"
            ],
            [
             0.1,
             "#c51b7d"
            ],
            [
             0.2,
             "#de77ae"
            ],
            [
             0.3,
             "#f1b6da"
            ],
            [
             0.4,
             "#fde0ef"
            ],
            [
             0.5,
             "#f7f7f7"
            ],
            [
             0.6,
             "#e6f5d0"
            ],
            [
             0.7,
             "#b8e186"
            ],
            [
             0.8,
             "#7fbc41"
            ],
            [
             0.9,
             "#4d9221"
            ],
            [
             1,
             "#276419"
            ]
           ],
           "sequential": [
            [
             0,
             "#0d0887"
            ],
            [
             0.1111111111111111,
             "#46039f"
            ],
            [
             0.2222222222222222,
             "#7201a8"
            ],
            [
             0.3333333333333333,
             "#9c179e"
            ],
            [
             0.4444444444444444,
             "#bd3786"
            ],
            [
             0.5555555555555556,
             "#d8576b"
            ],
            [
             0.6666666666666666,
             "#ed7953"
            ],
            [
             0.7777777777777778,
             "#fb9f3a"
            ],
            [
             0.8888888888888888,
             "#fdca26"
            ],
            [
             1,
             "#f0f921"
            ]
           ],
           "sequentialminus": [
            [
             0,
             "#0d0887"
            ],
            [
             0.1111111111111111,
             "#46039f"
            ],
            [
             0.2222222222222222,
             "#7201a8"
            ],
            [
             0.3333333333333333,
             "#9c179e"
            ],
            [
             0.4444444444444444,
             "#bd3786"
            ],
            [
             0.5555555555555556,
             "#d8576b"
            ],
            [
             0.6666666666666666,
             "#ed7953"
            ],
            [
             0.7777777777777778,
             "#fb9f3a"
            ],
            [
             0.8888888888888888,
             "#fdca26"
            ],
            [
             1,
             "#f0f921"
            ]
           ]
          },
          "colorway": [
           "#636efa",
           "#EF553B",
           "#00cc96",
           "#ab63fa",
           "#FFA15A",
           "#19d3f3",
           "#FF6692",
           "#B6E880",
           "#FF97FF",
           "#FECB52"
          ],
          "font": {
           "color": "#2a3f5f"
          },
          "geo": {
           "bgcolor": "white",
           "lakecolor": "white",
           "landcolor": "#E5ECF6",
           "showlakes": true,
           "showland": true,
           "subunitcolor": "white"
          },
          "hoverlabel": {
           "align": "left"
          },
          "hovermode": "closest",
          "mapbox": {
           "style": "light"
          },
          "paper_bgcolor": "white",
          "plot_bgcolor": "#E5ECF6",
          "polar": {
           "angularaxis": {
            "gridcolor": "white",
            "linecolor": "white",
            "ticks": ""
           },
           "bgcolor": "#E5ECF6",
           "radialaxis": {
            "gridcolor": "white",
            "linecolor": "white",
            "ticks": ""
           }
          },
          "scene": {
           "xaxis": {
            "backgroundcolor": "#E5ECF6",
            "gridcolor": "white",
            "gridwidth": 2,
            "linecolor": "white",
            "showbackground": true,
            "ticks": "",
            "zerolinecolor": "white"
           },
           "yaxis": {
            "backgroundcolor": "#E5ECF6",
            "gridcolor": "white",
            "gridwidth": 2,
            "linecolor": "white",
            "showbackground": true,
            "ticks": "",
            "zerolinecolor": "white"
           },
           "zaxis": {
            "backgroundcolor": "#E5ECF6",
            "gridcolor": "white",
            "gridwidth": 2,
            "linecolor": "white",
            "showbackground": true,
            "ticks": "",
            "zerolinecolor": "white"
           }
          },
          "shapedefaults": {
           "line": {
            "color": "#2a3f5f"
           }
          },
          "ternary": {
           "aaxis": {
            "gridcolor": "white",
            "linecolor": "white",
            "ticks": ""
           },
           "baxis": {
            "gridcolor": "white",
            "linecolor": "white",
            "ticks": ""
           },
           "bgcolor": "#E5ECF6",
           "caxis": {
            "gridcolor": "white",
            "linecolor": "white",
            "ticks": ""
           }
          },
          "title": {
           "x": 0.05
          },
          "xaxis": {
           "automargin": true,
           "gridcolor": "white",
           "linecolor": "white",
           "ticks": "",
           "title": {
            "standoff": 15
           },
           "zerolinecolor": "white",
           "zerolinewidth": 2
          },
          "yaxis": {
           "automargin": true,
           "gridcolor": "white",
           "linecolor": "white",
           "ticks": "",
           "title": {
            "standoff": 15
           },
           "zerolinecolor": "white",
           "zerolinewidth": 2
          }
         }
        },
        "title": {
         "text": "Sales Performance for the previous year:"
        }
       }
      }
     },
     "metadata": {},
     "output_type": "display_data"
    }
   ],
   "source": [
    "contribution_query = \"\"\"\n",
    "SELECT \n",
    "BusinessEntityID,\n",
    "SalesLastYear\n",
    "FROM Sales.SalesPerson\n",
    "\"\"\"\n",
    "df_contribution_query = pd.read_sql(sql=contribution_query, con=connection)\n",
    "\n",
    "\n",
    "\n",
    "fig = px.pie(\n",
    "df_contribution_query,\n",
    "names= 'BusinessEntityID', \n",
    "values='SalesLastYear',    \n",
    "title='Sales Performance for the previous year:'\n",
    ")\n",
    "\n",
    "\n",
    "fig.show()"
   ]
  },
  {
   "cell_type": "markdown",
   "metadata": {},
   "source": [
    "This pie chart shows that last year’s sales contributions were fairly evenly distributed."
   ]
  },
  {
   "cell_type": "markdown",
   "metadata": {},
   "source": [
    "Here is the salesperson with the highest sales for the previous year:"
   ]
  },
  {
   "cell_type": "code",
   "execution_count": 401,
   "metadata": {},
   "outputs": [
    {
     "name": "stdout",
     "output_type": "stream",
     "text": [
      "The salesperson with the highest sales for the previous year:\n"
     ]
    },
    {
     "data": {
      "text/html": [
       "<div>\n",
       "<style scoped>\n",
       "    .dataframe tbody tr th:only-of-type {\n",
       "        vertical-align: middle;\n",
       "    }\n",
       "\n",
       "    .dataframe tbody tr th {\n",
       "        vertical-align: top;\n",
       "    }\n",
       "\n",
       "    .dataframe thead th {\n",
       "        text-align: right;\n",
       "    }\n",
       "</style>\n",
       "<table border=\"1\" class=\"dataframe\">\n",
       "  <thead>\n",
       "    <tr style=\"text-align: right;\">\n",
       "      <th></th>\n",
       "      <th>BusinessEntityID</th>\n",
       "      <th>FirstName</th>\n",
       "      <th>LastName</th>\n",
       "      <th>SalesLastYear</th>\n",
       "    </tr>\n",
       "  </thead>\n",
       "  <tbody>\n",
       "    <tr>\n",
       "      <th>0</th>\n",
       "      <td>290</td>\n",
       "      <td>Ranjit</td>\n",
       "      <td>Varkey Chudukatil</td>\n",
       "      <td>2.396540e+06</td>\n",
       "    </tr>\n",
       "  </tbody>\n",
       "</table>\n",
       "</div>"
      ],
      "text/plain": [
       "   BusinessEntityID FirstName           LastName  SalesLastYear\n",
       "0               290    Ranjit  Varkey Chudukatil   2.396540e+06"
      ]
     },
     "execution_count": 401,
     "metadata": {},
     "output_type": "execute_result"
    }
   ],
   "source": [
    "top_salesperson = \"\"\"\n",
    "SELECT \n",
    "Sales.SalesPerson.BusinessEntityID,\n",
    "Person.Person.FirstName,\n",
    "Person.Person.LastName,\n",
    "Sales.SalesPerson.SalesLastYear\n",
    "FROM Sales.SalesPerson\n",
    "INNER JOIN Person.Person\n",
    "ON Sales.SalesPerson.BusinessEntityID = Person.Person.BusinessEntityID \n",
    "WHERE Sales.SalesPerson.SalesLastYear = (SELECT MAX(SalesLastYear) FROM Sales.SalesPerson)\n",
    "\"\"\"\n",
    "\n",
    "df_top_salesperson = pd.read_sql(sql=top_salesperson, con=connection)\n",
    "print('The salesperson with the highest sales for the previous year:')\n",
    "df_top_salesperson"
   ]
  },
  {
   "cell_type": "markdown",
   "metadata": {},
   "source": [
    "The following pie chart illustrates the sales performance of each salesperson (contribution) for the Current Year-to-Date:"
   ]
  },
  {
   "cell_type": "code",
   "execution_count": 402,
   "metadata": {},
   "outputs": [
    {
     "data": {
      "application/vnd.plotly.v1+json": {
       "config": {
        "plotlyServerURL": "https://plot.ly"
       },
       "data": [
        {
         "domain": {
          "x": [
           0,
           1
          ],
          "y": [
           0,
           1
          ]
         },
         "hovertemplate": "BusinessEntityID=%{label}<br>SalesYTD=%{value}<extra></extra>",
         "labels": [
          274,
          275,
          276,
          277,
          278,
          279,
          280,
          281,
          282,
          283,
          284,
          285,
          286,
          287,
          288,
          289,
          290
         ],
         "legendgroup": "",
         "name": "",
         "showlegend": true,
         "type": "pie",
         "values": [
          559697.5639,
          3763178.1787,
          4251368.5497,
          3189418.3662,
          1453719.4653,
          2315185.611,
          1352577.1325,
          2458535.6169,
          2604540.7172,
          1573012.9383,
          1576562.1966,
          172524.4512,
          1421810.9242,
          519905.932,
          1827066.7118,
          4116871.2277,
          3121616.3202
         ]
        }
       ],
       "layout": {
        "legend": {
         "tracegroupgap": 0
        },
        "template": {
         "data": {
          "bar": [
           {
            "error_x": {
             "color": "#2a3f5f"
            },
            "error_y": {
             "color": "#2a3f5f"
            },
            "marker": {
             "line": {
              "color": "#E5ECF6",
              "width": 0.5
             },
             "pattern": {
              "fillmode": "overlay",
              "size": 10,
              "solidity": 0.2
             }
            },
            "type": "bar"
           }
          ],
          "barpolar": [
           {
            "marker": {
             "line": {
              "color": "#E5ECF6",
              "width": 0.5
             },
             "pattern": {
              "fillmode": "overlay",
              "size": 10,
              "solidity": 0.2
             }
            },
            "type": "barpolar"
           }
          ],
          "carpet": [
           {
            "aaxis": {
             "endlinecolor": "#2a3f5f",
             "gridcolor": "white",
             "linecolor": "white",
             "minorgridcolor": "white",
             "startlinecolor": "#2a3f5f"
            },
            "baxis": {
             "endlinecolor": "#2a3f5f",
             "gridcolor": "white",
             "linecolor": "white",
             "minorgridcolor": "white",
             "startlinecolor": "#2a3f5f"
            },
            "type": "carpet"
           }
          ],
          "choropleth": [
           {
            "colorbar": {
             "outlinewidth": 0,
             "ticks": ""
            },
            "type": "choropleth"
           }
          ],
          "contour": [
           {
            "colorbar": {
             "outlinewidth": 0,
             "ticks": ""
            },
            "colorscale": [
             [
              0,
              "#0d0887"
             ],
             [
              0.1111111111111111,
              "#46039f"
             ],
             [
              0.2222222222222222,
              "#7201a8"
             ],
             [
              0.3333333333333333,
              "#9c179e"
             ],
             [
              0.4444444444444444,
              "#bd3786"
             ],
             [
              0.5555555555555556,
              "#d8576b"
             ],
             [
              0.6666666666666666,
              "#ed7953"
             ],
             [
              0.7777777777777778,
              "#fb9f3a"
             ],
             [
              0.8888888888888888,
              "#fdca26"
             ],
             [
              1,
              "#f0f921"
             ]
            ],
            "type": "contour"
           }
          ],
          "contourcarpet": [
           {
            "colorbar": {
             "outlinewidth": 0,
             "ticks": ""
            },
            "type": "contourcarpet"
           }
          ],
          "heatmap": [
           {
            "colorbar": {
             "outlinewidth": 0,
             "ticks": ""
            },
            "colorscale": [
             [
              0,
              "#0d0887"
             ],
             [
              0.1111111111111111,
              "#46039f"
             ],
             [
              0.2222222222222222,
              "#7201a8"
             ],
             [
              0.3333333333333333,
              "#9c179e"
             ],
             [
              0.4444444444444444,
              "#bd3786"
             ],
             [
              0.5555555555555556,
              "#d8576b"
             ],
             [
              0.6666666666666666,
              "#ed7953"
             ],
             [
              0.7777777777777778,
              "#fb9f3a"
             ],
             [
              0.8888888888888888,
              "#fdca26"
             ],
             [
              1,
              "#f0f921"
             ]
            ],
            "type": "heatmap"
           }
          ],
          "heatmapgl": [
           {
            "colorbar": {
             "outlinewidth": 0,
             "ticks": ""
            },
            "colorscale": [
             [
              0,
              "#0d0887"
             ],
             [
              0.1111111111111111,
              "#46039f"
             ],
             [
              0.2222222222222222,
              "#7201a8"
             ],
             [
              0.3333333333333333,
              "#9c179e"
             ],
             [
              0.4444444444444444,
              "#bd3786"
             ],
             [
              0.5555555555555556,
              "#d8576b"
             ],
             [
              0.6666666666666666,
              "#ed7953"
             ],
             [
              0.7777777777777778,
              "#fb9f3a"
             ],
             [
              0.8888888888888888,
              "#fdca26"
             ],
             [
              1,
              "#f0f921"
             ]
            ],
            "type": "heatmapgl"
           }
          ],
          "histogram": [
           {
            "marker": {
             "pattern": {
              "fillmode": "overlay",
              "size": 10,
              "solidity": 0.2
             }
            },
            "type": "histogram"
           }
          ],
          "histogram2d": [
           {
            "colorbar": {
             "outlinewidth": 0,
             "ticks": ""
            },
            "colorscale": [
             [
              0,
              "#0d0887"
             ],
             [
              0.1111111111111111,
              "#46039f"
             ],
             [
              0.2222222222222222,
              "#7201a8"
             ],
             [
              0.3333333333333333,
              "#9c179e"
             ],
             [
              0.4444444444444444,
              "#bd3786"
             ],
             [
              0.5555555555555556,
              "#d8576b"
             ],
             [
              0.6666666666666666,
              "#ed7953"
             ],
             [
              0.7777777777777778,
              "#fb9f3a"
             ],
             [
              0.8888888888888888,
              "#fdca26"
             ],
             [
              1,
              "#f0f921"
             ]
            ],
            "type": "histogram2d"
           }
          ],
          "histogram2dcontour": [
           {
            "colorbar": {
             "outlinewidth": 0,
             "ticks": ""
            },
            "colorscale": [
             [
              0,
              "#0d0887"
             ],
             [
              0.1111111111111111,
              "#46039f"
             ],
             [
              0.2222222222222222,
              "#7201a8"
             ],
             [
              0.3333333333333333,
              "#9c179e"
             ],
             [
              0.4444444444444444,
              "#bd3786"
             ],
             [
              0.5555555555555556,
              "#d8576b"
             ],
             [
              0.6666666666666666,
              "#ed7953"
             ],
             [
              0.7777777777777778,
              "#fb9f3a"
             ],
             [
              0.8888888888888888,
              "#fdca26"
             ],
             [
              1,
              "#f0f921"
             ]
            ],
            "type": "histogram2dcontour"
           }
          ],
          "mesh3d": [
           {
            "colorbar": {
             "outlinewidth": 0,
             "ticks": ""
            },
            "type": "mesh3d"
           }
          ],
          "parcoords": [
           {
            "line": {
             "colorbar": {
              "outlinewidth": 0,
              "ticks": ""
             }
            },
            "type": "parcoords"
           }
          ],
          "pie": [
           {
            "automargin": true,
            "type": "pie"
           }
          ],
          "scatter": [
           {
            "fillpattern": {
             "fillmode": "overlay",
             "size": 10,
             "solidity": 0.2
            },
            "type": "scatter"
           }
          ],
          "scatter3d": [
           {
            "line": {
             "colorbar": {
              "outlinewidth": 0,
              "ticks": ""
             }
            },
            "marker": {
             "colorbar": {
              "outlinewidth": 0,
              "ticks": ""
             }
            },
            "type": "scatter3d"
           }
          ],
          "scattercarpet": [
           {
            "marker": {
             "colorbar": {
              "outlinewidth": 0,
              "ticks": ""
             }
            },
            "type": "scattercarpet"
           }
          ],
          "scattergeo": [
           {
            "marker": {
             "colorbar": {
              "outlinewidth": 0,
              "ticks": ""
             }
            },
            "type": "scattergeo"
           }
          ],
          "scattergl": [
           {
            "marker": {
             "colorbar": {
              "outlinewidth": 0,
              "ticks": ""
             }
            },
            "type": "scattergl"
           }
          ],
          "scattermapbox": [
           {
            "marker": {
             "colorbar": {
              "outlinewidth": 0,
              "ticks": ""
             }
            },
            "type": "scattermapbox"
           }
          ],
          "scatterpolar": [
           {
            "marker": {
             "colorbar": {
              "outlinewidth": 0,
              "ticks": ""
             }
            },
            "type": "scatterpolar"
           }
          ],
          "scatterpolargl": [
           {
            "marker": {
             "colorbar": {
              "outlinewidth": 0,
              "ticks": ""
             }
            },
            "type": "scatterpolargl"
           }
          ],
          "scatterternary": [
           {
            "marker": {
             "colorbar": {
              "outlinewidth": 0,
              "ticks": ""
             }
            },
            "type": "scatterternary"
           }
          ],
          "surface": [
           {
            "colorbar": {
             "outlinewidth": 0,
             "ticks": ""
            },
            "colorscale": [
             [
              0,
              "#0d0887"
             ],
             [
              0.1111111111111111,
              "#46039f"
             ],
             [
              0.2222222222222222,
              "#7201a8"
             ],
             [
              0.3333333333333333,
              "#9c179e"
             ],
             [
              0.4444444444444444,
              "#bd3786"
             ],
             [
              0.5555555555555556,
              "#d8576b"
             ],
             [
              0.6666666666666666,
              "#ed7953"
             ],
             [
              0.7777777777777778,
              "#fb9f3a"
             ],
             [
              0.8888888888888888,
              "#fdca26"
             ],
             [
              1,
              "#f0f921"
             ]
            ],
            "type": "surface"
           }
          ],
          "table": [
           {
            "cells": {
             "fill": {
              "color": "#EBF0F8"
             },
             "line": {
              "color": "white"
             }
            },
            "header": {
             "fill": {
              "color": "#C8D4E3"
             },
             "line": {
              "color": "white"
             }
            },
            "type": "table"
           }
          ]
         },
         "layout": {
          "annotationdefaults": {
           "arrowcolor": "#2a3f5f",
           "arrowhead": 0,
           "arrowwidth": 1
          },
          "autotypenumbers": "strict",
          "coloraxis": {
           "colorbar": {
            "outlinewidth": 0,
            "ticks": ""
           }
          },
          "colorscale": {
           "diverging": [
            [
             0,
             "#8e0152"
            ],
            [
             0.1,
             "#c51b7d"
            ],
            [
             0.2,
             "#de77ae"
            ],
            [
             0.3,
             "#f1b6da"
            ],
            [
             0.4,
             "#fde0ef"
            ],
            [
             0.5,
             "#f7f7f7"
            ],
            [
             0.6,
             "#e6f5d0"
            ],
            [
             0.7,
             "#b8e186"
            ],
            [
             0.8,
             "#7fbc41"
            ],
            [
             0.9,
             "#4d9221"
            ],
            [
             1,
             "#276419"
            ]
           ],
           "sequential": [
            [
             0,
             "#0d0887"
            ],
            [
             0.1111111111111111,
             "#46039f"
            ],
            [
             0.2222222222222222,
             "#7201a8"
            ],
            [
             0.3333333333333333,
             "#9c179e"
            ],
            [
             0.4444444444444444,
             "#bd3786"
            ],
            [
             0.5555555555555556,
             "#d8576b"
            ],
            [
             0.6666666666666666,
             "#ed7953"
            ],
            [
             0.7777777777777778,
             "#fb9f3a"
            ],
            [
             0.8888888888888888,
             "#fdca26"
            ],
            [
             1,
             "#f0f921"
            ]
           ],
           "sequentialminus": [
            [
             0,
             "#0d0887"
            ],
            [
             0.1111111111111111,
             "#46039f"
            ],
            [
             0.2222222222222222,
             "#7201a8"
            ],
            [
             0.3333333333333333,
             "#9c179e"
            ],
            [
             0.4444444444444444,
             "#bd3786"
            ],
            [
             0.5555555555555556,
             "#d8576b"
            ],
            [
             0.6666666666666666,
             "#ed7953"
            ],
            [
             0.7777777777777778,
             "#fb9f3a"
            ],
            [
             0.8888888888888888,
             "#fdca26"
            ],
            [
             1,
             "#f0f921"
            ]
           ]
          },
          "colorway": [
           "#636efa",
           "#EF553B",
           "#00cc96",
           "#ab63fa",
           "#FFA15A",
           "#19d3f3",
           "#FF6692",
           "#B6E880",
           "#FF97FF",
           "#FECB52"
          ],
          "font": {
           "color": "#2a3f5f"
          },
          "geo": {
           "bgcolor": "white",
           "lakecolor": "white",
           "landcolor": "#E5ECF6",
           "showlakes": true,
           "showland": true,
           "subunitcolor": "white"
          },
          "hoverlabel": {
           "align": "left"
          },
          "hovermode": "closest",
          "mapbox": {
           "style": "light"
          },
          "paper_bgcolor": "white",
          "plot_bgcolor": "#E5ECF6",
          "polar": {
           "angularaxis": {
            "gridcolor": "white",
            "linecolor": "white",
            "ticks": ""
           },
           "bgcolor": "#E5ECF6",
           "radialaxis": {
            "gridcolor": "white",
            "linecolor": "white",
            "ticks": ""
           }
          },
          "scene": {
           "xaxis": {
            "backgroundcolor": "#E5ECF6",
            "gridcolor": "white",
            "gridwidth": 2,
            "linecolor": "white",
            "showbackground": true,
            "ticks": "",
            "zerolinecolor": "white"
           },
           "yaxis": {
            "backgroundcolor": "#E5ECF6",
            "gridcolor": "white",
            "gridwidth": 2,
            "linecolor": "white",
            "showbackground": true,
            "ticks": "",
            "zerolinecolor": "white"
           },
           "zaxis": {
            "backgroundcolor": "#E5ECF6",
            "gridcolor": "white",
            "gridwidth": 2,
            "linecolor": "white",
            "showbackground": true,
            "ticks": "",
            "zerolinecolor": "white"
           }
          },
          "shapedefaults": {
           "line": {
            "color": "#2a3f5f"
           }
          },
          "ternary": {
           "aaxis": {
            "gridcolor": "white",
            "linecolor": "white",
            "ticks": ""
           },
           "baxis": {
            "gridcolor": "white",
            "linecolor": "white",
            "ticks": ""
           },
           "bgcolor": "#E5ECF6",
           "caxis": {
            "gridcolor": "white",
            "linecolor": "white",
            "ticks": ""
           }
          },
          "title": {
           "x": 0.05
          },
          "xaxis": {
           "automargin": true,
           "gridcolor": "white",
           "linecolor": "white",
           "ticks": "",
           "title": {
            "standoff": 15
           },
           "zerolinecolor": "white",
           "zerolinewidth": 2
          },
          "yaxis": {
           "automargin": true,
           "gridcolor": "white",
           "linecolor": "white",
           "ticks": "",
           "title": {
            "standoff": 15
           },
           "zerolinecolor": "white",
           "zerolinewidth": 2
          }
         }
        },
        "title": {
         "text": "Sales Performance for the Current Year-to-Date:"
        }
       }
      }
     },
     "metadata": {},
     "output_type": "display_data"
    }
   ],
   "source": [
    "contribution_query = \"\"\"\n",
    "SELECT \n",
    "BusinessEntityID,\n",
    "SalesYTD\n",
    "FROM Sales.SalesPerson\n",
    "\"\"\"\n",
    "df_contribution_query = pd.read_sql(sql=contribution_query, con=connection)\n",
    "\n",
    "\n",
    "\n",
    "fig = px.pie(\n",
    "df_contribution_query,\n",
    "names= 'BusinessEntityID', \n",
    "values='SalesYTD',    \n",
    "title='Sales Performance for the Current Year-to-Date:'\n",
    ")\n",
    "\n",
    "\n",
    "fig.show()"
   ]
  },
  {
   "cell_type": "markdown",
   "metadata": {},
   "source": [
    "This pie chart shows that this year’s sales contributions were not evenly distributed and mainly relied on a few top performers."
   ]
  },
  {
   "cell_type": "markdown",
   "metadata": {},
   "source": [
    "Here is the salesperson with the highest sales for the current Year-to-Date:"
   ]
  },
  {
   "cell_type": "code",
   "execution_count": 403,
   "metadata": {},
   "outputs": [
    {
     "name": "stdout",
     "output_type": "stream",
     "text": [
      "The salesperson with the highest sales for the current Year-to-Date:\n"
     ]
    },
    {
     "data": {
      "text/html": [
       "<div>\n",
       "<style scoped>\n",
       "    .dataframe tbody tr th:only-of-type {\n",
       "        vertical-align: middle;\n",
       "    }\n",
       "\n",
       "    .dataframe tbody tr th {\n",
       "        vertical-align: top;\n",
       "    }\n",
       "\n",
       "    .dataframe thead th {\n",
       "        text-align: right;\n",
       "    }\n",
       "</style>\n",
       "<table border=\"1\" class=\"dataframe\">\n",
       "  <thead>\n",
       "    <tr style=\"text-align: right;\">\n",
       "      <th></th>\n",
       "      <th>BusinessEntityID</th>\n",
       "      <th>FirstName</th>\n",
       "      <th>LastName</th>\n",
       "      <th>SalesYTD</th>\n",
       "    </tr>\n",
       "  </thead>\n",
       "  <tbody>\n",
       "    <tr>\n",
       "      <th>0</th>\n",
       "      <td>276</td>\n",
       "      <td>Linda</td>\n",
       "      <td>Mitchell</td>\n",
       "      <td>4.251369e+06</td>\n",
       "    </tr>\n",
       "  </tbody>\n",
       "</table>\n",
       "</div>"
      ],
      "text/plain": [
       "   BusinessEntityID FirstName  LastName      SalesYTD\n",
       "0               276     Linda  Mitchell  4.251369e+06"
      ]
     },
     "execution_count": 403,
     "metadata": {},
     "output_type": "execute_result"
    }
   ],
   "source": [
    "top_salesperson = \"\"\"\n",
    "SELECT \n",
    "Sales.SalesPerson.BusinessEntityID,\n",
    "Person.Person.FirstName,\n",
    "Person.Person.LastName,\n",
    "Sales.SalesPerson.SalesYTD\n",
    "FROM Sales.SalesPerson\n",
    "INNER JOIN Person.Person\n",
    "ON Sales.SalesPerson.BusinessEntityID = Person.Person.BusinessEntityID \n",
    "WHERE Sales.SalesPerson.SalesYTD = (SELECT MAX(SalesYTD) FROM Sales.SalesPerson)\n",
    "\"\"\"\n",
    "\n",
    "df_top_salesperson = pd.read_sql(sql=top_salesperson, con=connection)\n",
    "print('The salesperson with the highest sales for the current Year-to-Date:')\n",
    "df_top_salesperson"
   ]
  },
  {
   "cell_type": "markdown",
   "metadata": {},
   "source": [
    "I analyzed total sales for both the last year and the current year, including and excluding these 4 salespersons. In both scenarios, I observed that the current year's sales were higher. To test whether this difference is statistically significant, I formulated the following hypotheses:\n",
    "\n",
    "Null Hypothesis H0: 𝜇1 - 𝜇2 = 0 (The mean sales from the last year and the current year are equal.)\n",
    "\n",
    "Alternative Hypothesis H1: 𝜇1 - 𝜇2 ≠ 0 (The mean sales from the last year and the current year are not equal)\n",
    "\n",
    "Using a t-test (95% confidence interval, df=24), I tested this hypothesis:"
   ]
  },
  {
   "cell_type": "code",
   "execution_count": 358,
   "metadata": {},
   "outputs": [
    {
     "name": "stdout",
     "output_type": "stream",
     "text": [
      "p-value = TtestResult(statistic=-2.4729006144032692, pvalue=0.02087355450762742, df=24.0)\n",
      "Confidence Interval: (-1422507.6247831408, -79482.8575707043)\n"
     ]
    }
   ],
   "source": [
    "sales_query = \"\"\"\n",
    "SELECT \n",
    "    SalesLastYear, \n",
    "    SalesYTD\n",
    "FROM Sales.SalesPerson\n",
    "WHERE SalesLastYear > 0\n",
    "\"\"\"\n",
    "\n",
    "df_sales = pd.read_sql(sql=sales_query, con=connection)\n",
    "\n",
    "\n",
    "last_year_sales = df_sales['SalesLastYear']\n",
    "current_year_sales = df_sales['SalesYTD']\n",
    "\n",
    "p_valu = stats.ttest_ind(last_year_sales, current_year_sales)\n",
    "\n",
    "\n",
    "# Calculate the 95% confidence interval for the mean difference\n",
    "ci_low, ci_high = stats.t.interval(0.95, len(last_year_sales) - 1, loc=last_year_sales.mean() - current_year_sales.mean(), scale=stats.sem(last_year_sales - current_year_sales))\n",
    "\n",
    "\n",
    "print(f\"p-value = {p_value}\")\n",
    "print(f\"Confidence Interval: ({ci_low}, {ci_high})\")\n"
   ]
  },
  {
   "cell_type": "markdown",
   "metadata": {},
   "source": [
    "The p-value is less than 0.05 (p-value = 0.02) and the confidence interval does not include 0. Therefore, there is sufficient evidence to reject the null hypothesis (H0), indicating a statistically significant difference between last year’s sales and the current year’s sales, even when excluding the four salespersons with zero sales from the previous year."
   ]
  },
  {
   "cell_type": "markdown",
   "metadata": {},
   "source": [
    "### Fråga 3. Analysera datan och resultaten du tagit fram. Vilka slutsatser och rekommendationer kan du ge?\n"
   ]
  },
  {
   "cell_type": "markdown",
   "metadata": {},
   "source": [
    "The company has 17 salespersons, including 3 Sales Managers and 14 Sales Representatives. All were hired between 2011 and 2013, meaning they have comparable levels of experience within the company. Among these, 4 salespersons (3 Sales Managers and 1 Sales Representative) recorded no sales last year. Since they are not new employees, this raises concerns about their performance or potential issues with data accuracy. Since 3 of the 4 salespersons with no sales last year were Sales Managers, it could be that they were not directly involved in selling. Therefore, it’s important to investigate whether the scope of responsibilities for Sales Managers was consistent between last year and this year.\n",
    "\n",
    "A bar chart comparison of sales performance showed that 14 out of 17 salespersons had better results in the current year. Total sales for the current year were higher than the previous year in both scenarios (whether the 4 salespersons with no sales last year were included or excluded). A t-test confirmed that this difference is statistically significant, even when excluding the 4 non-performing salespersons. \n",
    "\n",
    "Pie charts showed that last year’s sales contributions were more evenly distributed, while this year’s sales relied more on top performers. The analysis also highlighted the top-performing salespersons for each year.\n",
    "\n",
    "Recommendations:\n",
    "This analysis indicates an overall improvement in sales performance, but further investigations are recommended:\n",
    "\n",
    "1. The 4 salespersons with no sales last year should be reviewed to determine if this is related to their task responsibilities, a performance issue, or a data error.\n",
    "2. Develop strategies to retain and further motivate the company’s top-performing salespersons.\n",
    "3. Identify the factors behind this year’s improved performance, such as strategic changes or market conditions.\n",
    "4. Look into differences in performance between territories to help with strategic decisions."
   ]
  },
  {
   "cell_type": "markdown",
   "metadata": {},
   "source": [
    "### - Executive summary\n",
    "\n",
    "The company’s sales performance across North America, Pacific, and Europe improved significantly this year, with 14 out of 17 salespersons increasing their sales. Total sales for the current year were higher than last year, even after excluding 4 salespersons who recorded no sales last year. Three of these 4 non-performing salespersons were Sales Managers, suggesting they may not have been directly involved in selling. To build on these findings, it’s important to review the responsibilities of Sales Managers to ensure they align with current goals. Additionally, understanding the factors behind this year’s improved performance can help replicate success.\n",
    "\n",
    "This year, sales were driven largely by top performers, whereas last year’s sales were more evenly distributed. Therefore, developing strategies to retain and motivate top performers will support sustained growth. Furthermore, leveraging the experience of top-performing salespersons and utilizing their education or specialized skills could provide valuable insights.\n",
    "\n",
    "Investigating regional performance differences could also help refine strategic decisions. These steps will strengthen the company’s sales framework and drive continued growth."
   ]
  },
  {
   "cell_type": "markdown",
   "metadata": {},
   "source": [
    "### The date of the oral presentation of the code: 2025-01-03"
   ]
  },
  {
   "cell_type": "markdown",
   "metadata": {},
   "source": [
    "### - Självvärdering\n",
    "\n",
    "1. Utmaningar du haft under arbetet samt hur du hanterat dem.\n",
    "\n",
    "Efter att ha utforskat databasen var en av de största utmaningarna att bestämma vilka scheman och tabeller som skulle användas för mer ingående datanalyser. Det tog lite tid att hitta de bästa områdena att fokusera på. Till slut valde jag att arbeta främst med Sales-schemat eftersom det är viktigt för företagets ekonomi.  \n",
    "\n",
    "\n",
    "2. Vilket betyg du anser att du skall ha och varför.\n",
    "\n",
    "Jag anser att jag förtjänar ett VG-betyg eftersom jag effektivt analyserade data och drog meningsfulla insikter. Jag gjorde välinformerade val gällande schema- och tabellval, och stödde mina resonemang med tydliga och logiska förklaringar.\n",
    "\n",
    "\n",
    "\n",
    "3. Tips du hade gett till dig själv i början av kursen nu när du slutfört den.\n",
    "\n",
    "Jag följde kursplanen och läste kursboken, samt gjorde föreslagna uppgifter. Jag gjorde även en LinkedInkurs. Om jag hade haft tid hade jag tagit de två andra LinkedInkurserna också. \n",
    "\n",
    "\n"
   ]
  }
 ],
 "metadata": {
  "kernelspec": {
   "display_name": "base",
   "language": "python",
   "name": "python3"
  },
  "language_info": {
   "codemirror_mode": {
    "name": "ipython",
    "version": 3
   },
   "file_extension": ".py",
   "mimetype": "text/x-python",
   "name": "python",
   "nbconvert_exporter": "python",
   "pygments_lexer": "ipython3",
   "version": "3.12.4"
  }
 },
 "nbformat": 4,
 "nbformat_minor": 2
}
